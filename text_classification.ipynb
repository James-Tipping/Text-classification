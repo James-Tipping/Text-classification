{
 "cells": [
  {
   "cell_type": "code",
   "execution_count": 35,
   "metadata": {},
   "outputs": [],
   "source": [
    "import pandas as pd\n",
    "import numpy as np\n",
    "import matplotlib.pyplot as plt\n",
    "import seaborn as sns\n",
    "import tensorflow as tf\n",
    "tf.config.set_visible_devices([], 'GPU')\n",
    "import tensorflow_hub as hub\n",
    "import gc, os, json\n",
    "from sklearn.metrics import precision_recall_fscore_support"
   ]
  },
  {
   "cell_type": "markdown",
   "metadata": {},
   "source": [
    "## Read in data and explore"
   ]
  },
  {
   "cell_type": "markdown",
   "metadata": {},
   "source": [
    "This is text document classification dataset which contains 2225 text data and five categories of documents. Five categories are politics, sport, tech, entertainment and business. We can use this dataset for documents classification and document clustering.  \n",
    "\n",
    "Dataset contains two features text and label.  \n",
    "No. of Rows : 2225  \n",
    "No. of Columns : 2  \n",
    "\n",
    "Text:It contains different categories of text data  \n",
    "**Label: ** It contains labels for five different categories : 0,1,2,3,4  \n",
    "\n",
    "Politics = 0  \n",
    "Sport = 1  \n",
    "Technology = 2  \n",
    "Entertainment = 3  \n",
    "Business = 4  "
   ]
  },
  {
   "cell_type": "code",
   "execution_count": 4,
   "metadata": {},
   "outputs": [
    {
     "data": {
      "text/html": [
       "<div>\n",
       "<style scoped>\n",
       "    .dataframe tbody tr th:only-of-type {\n",
       "        vertical-align: middle;\n",
       "    }\n",
       "\n",
       "    .dataframe tbody tr th {\n",
       "        vertical-align: top;\n",
       "    }\n",
       "\n",
       "    .dataframe thead th {\n",
       "        text-align: right;\n",
       "    }\n",
       "</style>\n",
       "<table border=\"1\" class=\"dataframe\">\n",
       "  <thead>\n",
       "    <tr style=\"text-align: right;\">\n",
       "      <th></th>\n",
       "      <th>Text</th>\n",
       "      <th>Label</th>\n",
       "    </tr>\n",
       "  </thead>\n",
       "  <tbody>\n",
       "    <tr>\n",
       "      <th>0</th>\n",
       "      <td>Budget to set scene for election\\n \\n Gordon B...</td>\n",
       "      <td>0</td>\n",
       "    </tr>\n",
       "    <tr>\n",
       "      <th>1</th>\n",
       "      <td>Army chiefs in regiments decision\\n \\n Militar...</td>\n",
       "      <td>0</td>\n",
       "    </tr>\n",
       "    <tr>\n",
       "      <th>2</th>\n",
       "      <td>Howard denies split over ID cards\\n \\n Michael...</td>\n",
       "      <td>0</td>\n",
       "    </tr>\n",
       "    <tr>\n",
       "      <th>3</th>\n",
       "      <td>Observers to monitor UK election\\n \\n Minister...</td>\n",
       "      <td>0</td>\n",
       "    </tr>\n",
       "    <tr>\n",
       "      <th>4</th>\n",
       "      <td>Kilroy names election seat target\\n \\n Ex-chat...</td>\n",
       "      <td>0</td>\n",
       "    </tr>\n",
       "  </tbody>\n",
       "</table>\n",
       "</div>"
      ],
      "text/plain": [
       "                                                Text  Label\n",
       "0  Budget to set scene for election\\n \\n Gordon B...      0\n",
       "1  Army chiefs in regiments decision\\n \\n Militar...      0\n",
       "2  Howard denies split over ID cards\\n \\n Michael...      0\n",
       "3  Observers to monitor UK election\\n \\n Minister...      0\n",
       "4  Kilroy names election seat target\\n \\n Ex-chat...      0"
      ]
     },
     "execution_count": 4,
     "metadata": {},
     "output_type": "execute_result"
    }
   ],
   "source": [
    "df = pd.read_csv('df_file.csv')\n",
    "df.head()"
   ]
  },
  {
   "cell_type": "code",
   "execution_count": 4,
   "metadata": {},
   "outputs": [
    {
     "name": "stdout",
     "output_type": "stream",
     "text": [
      "<class 'pandas.core.frame.DataFrame'>\n",
      "RangeIndex: 2225 entries, 0 to 2224\n",
      "Data columns (total 2 columns):\n",
      " #   Column  Non-Null Count  Dtype \n",
      "---  ------  --------------  ----- \n",
      " 0   Text    2225 non-null   object\n",
      " 1   Label   2225 non-null   int64 \n",
      "dtypes: int64(1), object(1)\n",
      "memory usage: 34.9+ KB\n"
     ]
    }
   ],
   "source": [
    "df.info()"
   ]
  },
  {
   "cell_type": "code",
   "execution_count": null,
   "metadata": {},
   "outputs": [
    {
     "data": {
      "text/plain": [
       "Label\n",
       "0    417\n",
       "1    511\n",
       "2    401\n",
       "3    386\n",
       "4    510\n",
       "dtype: int64"
      ]
     },
     "execution_count": 5,
     "metadata": {},
     "output_type": "execute_result"
    }
   ],
   "source": [
    "df.groupby('Label').size()"
   ]
  },
  {
   "cell_type": "code",
   "execution_count": null,
   "metadata": {},
   "outputs": [
    {
     "name": "stdout",
     "output_type": "stream",
     "text": [
      "Label: 0, Text:Budget to set scene for election\n",
      " \n",
      " Gordon Brown will seek to put the economy at the centre of Labour's bid for a third term in power when he delivers his ninth Budget at 1230 GMT. He is expected to stress the importance of continued economic stability, with low unemployment and interest rates. The chancellor is expected to freeze petrol duty and raise the stamp duty threshold from Â£60,000. But the Conservatives and Lib Dems insist voters face higher taxes and more means-testing under Labour.\n",
      " \n",
      " Treasury officials have said there will not be a pre-election giveaway, but Mr Brown is thought to have about Â£2bn to spare.\n",
      " \n",
      " - Increase in the stamp duty threshold from Â£60,000 \n",
      "  - A freeze on petrol duty \n",
      "  - An extension of tax credit scheme for poorer families \n",
      "  - Possible help for pensioners The stamp duty threshold rise is intended to help first time buyers - a likely theme of all three of the main parties' general election manifestos. Ten years ago, buyers had a much greater chance of avoiding stamp duty, with close to half a million properties, in England and Wales alone, selling for less than Â£60,000. Since then, average UK property prices have more than doubled while the starting threshold for stamp duty has not increased. Tax credits As a result, the number of properties incurring stamp duty has rocketed as has the government's tax take. The Liberal Democrats unveiled their own proposals to raise the stamp duty threshold to Â£150,000 in February.\n",
      " \n",
      " The Tories are also thought likely to propose increased thresholds, with shadow chancellor Oliver Letwin branding stamp duty a \"classic Labour stealth tax\". The Tories say whatever the chancellor gives away will be clawed back in higher taxes if Labour is returned to power. Shadow Treasury chief secretary George Osborne said: \"Everyone who looks at the British economy at the moment says there has been a sharp deterioration in the public finances, that there is a black hole,\" he said. \"If Labour is elected there will be a very substantial tax increase in the Budget after the election, of the order of around Â£10bn.\"\n",
      " \n",
      " But Mr Brown's former advisor Ed Balls, now a parliamentary hopeful, said an examination of Tory plans for the economy showed there would be a Â£35bn difference in investment by the end of the next parliament between the two main parties. He added: \"I don't accept there is any need for any changes to the plans we have set out to meet our spending commitments.\"\n",
      " \n",
      " For the Lib Dems David Laws said: \"The chancellor will no doubt tell us today how wonderfully the economy is doing,\" he said. \"But a lot of that is built on an increase in personal and consumer debt over the last few years - that makes the economy quite vulnerable potentially if interest rates ever do have to go up in a significant way.\" SNP leader Alex Salmond said his party would introduce a Â£2,000 grant for first time buyers, reduce corporation tax and introduce a citizens pension free from means testing. Plaid Cymru's economics spokesman Adam Price said he wanted help to get people on the housing ladder and an increase in the minimum wage to Â£5.60 an hour.\n",
      " \n",
      " \n",
      "\n",
      "Label: 1, Text:Hodges announces rugby retirement\n",
      " \n",
      " Scarlets and USA Eagles forward Dave Hodges has ended his playing career to pursue a coaching role in the States.\n",
      " \n",
      " The 36-year-old, who has 54 caps, was Llanelli's player of the season in 2001/2, but has battled injury for the last two of his seven years at Stradey. He tore a pectoral muscle against the Ospreys on Boxing Day, an injury that would have kept him out for the season. \"Realising I would be unable to play this season, the club and I agreed to end my contract early,\" said Hodges.\n",
      " \n",
      " \"It allows me to move back to the US and pursue opportunities there and allows the Scarlets to look to the next generation.\" The Scarlets have begun to rebuild their squad for next season after a disappointing Heineken Cup campaign, with plenty more signings and departures expected in the coming weeks.\n",
      " \n",
      " Scarlets chief executive Stuart Gallacher confirmed that 17 of the current squad would be out of contract in the summer. \"We have a deliberate policy whereby around half the squad are coming out of contract and they know they won't all be re-signed, it's a chance to invigorate the squad,\" he said. \"I'm positive about the future of the Scarlets both on and off the field.\" Gallacher was keen to pay tribute to the role back-five forward Hodges has played at Stradey Park, though. \"David has been a highly influential member of our squad for seven years,\" said Gallacher. \"He is a real professional and we thank him for the part he has played in our success. \"I am sure he has an enormous contribution to make to the development of rugby in the US and we wish him and his family well.\" Hodges described his years at Stradey as \"the best time of my life.\"\n",
      " \n",
      " \n",
      "\n",
      "Label: 2, Text:Digital UK driven by net and TV\n",
      " \n",
      " The UK's adoption of digital TV and broadband has helped make it the fourth most digitally-savvy nation in Europe, according a report by Jupiter Research.\n",
      " \n",
      " But the UK still lags in terms of broadband speeds compared to others. The most digitally sophisticated Europeans, in terms of use of digital goods such as mobiles, TV, net and cameras, are the Scandinavians. About 14 million households in the UK, 60%, have digital TV, according to the communications regulator Ofcom. The least digital of the European nations was Greece, in 17th position, according to the Digital Life Index.\n",
      " \n",
      " Scandinavian countries Sweden, Denmark and Norway came out top in the report, but there were some differences in technology trends. \"The European Digital Life Index demonstrates that digital lifestyles are common today, but across Europe there is no single digital lifestyle,\" said Nate Elliott, Jupiter analyst. \"Consumers adopt different digital products and services in different countries.\"\n",
      " \n",
      " Although there are differences between different European nations, the gap between them is closing, the report concluded. The trend for gadgets and technologies, such as digital video recorders (DVR), broadband, and video-on-demand will continue across Europe, he added. More than six million UK households now have broadband net. By the middle of 2005, it is estimated that 50% of all UK net users will be on broadband. Cable company NTL is trialling faster ADSL (Asymmetric Digital Subscriber Line) broadband technology using ADSL2+ which can give speeds of 18Mbps compared to current speeds which are usually around 1Mbps or 2Mbps. BT is set to trial the technology later in the year. Super-fast broadband will be necessary to the delivery of services such as high-definition TV (HDTV) and video-on-demand, already very popular in France and other European countries.\n",
      " \n",
      " A separate survey by GMIPoll last week found that, globally, people's appetite for technology and gadgets continues unabated. The poll of 20,000 people in 20 countries found that 59% wanted more technology.\n",
      " \n",
      " The computer was the \"must-have\" gadget for most people (75%). The TV took second place (67%), while the mobile was ranked in third position with 54%. Digital cameras were the most popular choice of gadget for 2005, said the survey, with nearly 40% choosing this over wireless, home printing and DVR technologies. However, only 25% of Britons said a digital camera would be their top gadget purchase of the year. Almost a quarter, 22%, said they would be buying some sort of wireless device. Forty-four percent said they would be buying something \"other\". This might include digital music players, or gaming devices. The Nintendo DS, Sony's PSP and Gizmondo all hit the shops in 2005, and the first of the next generation of games consoles, Xbox 2, is set to launch later this year. Jupiter Research's index is calculated using 40 different variables across net users, digital TV adoption, wireless and mobile, online activity, and digital devices.\n",
      " \n",
      " \n",
      "\n",
      "Label: 3, Text:Super Size Me wins writers' award\n",
      " \n",
      " Super Size Me director Morgan Spurlock has won the Writers Guild of America's award for documentary feature writing.\n",
      " \n",
      " The Oscar-nominated film followed Spurlock as he ate only McDonald's fast food for an entire month. Spurlock was given the award at a special ceremony at the Roosevelt Hotel in Hollywood on Tuesday. Organisers said the rising popularity of documentary films led them to honour a writer for a documentary screenplay for the first time.\n",
      " \n",
      " Producer Brian Grazer presented the award to Spurlock and the film's backers, Roadside Attractions, Samuel Goldwyn Films and Showtime Independent Films. Spurlock set out to discover the effect of living on nothing but McDonald's for a month, upgrading to supersize portions when offered. The film followed his 25lb weight gain and the health effects on his body, including his liver and cholesterol levels. McDonald's announced it was to scrap its \"supersized\" meals last year, but denied the move was as a result of the negative publicity created by Spurlock's film. Spurlock was given his award on the same day the European Court of Human Rights ruled that two UK activists should have been given legal aid in their long fight against a McDonald's libel action. Helen Steel and David Morris, from north London, dubbed the \"McLibel Two\", were found guilty in a 1990s trial of libelling the company in a leaflet they had been handing out At the end of the case the High Court in London ruled McDonald's had been libelled and awarded the company Â£60,000 in damages, later reduced to Â£40,000 on appeal. But he found the leaflet was true in some aspects.\n",
      " \n",
      " \n",
      "\n",
      "Label: 4, Text:US consumer confidence up\n",
      " \n",
      " Consumers' confidence in the state of the US economy is at its highest for five months and they are optimistic about 2005, an influential survey says.\n",
      " \n",
      " The feel-good factor among US consumers rose in December for the first time since July according to new data. The Conference Board survey of 5,000 households pointed to renewed optimism about job creation and economic growth. US retailers have reported strong sales over the past 10 days after a slow start to the crucial festive season.\n",
      " \n",
      " According to figures also released on Tuesday, sales in shopping malls in the week to 25 December were 4.3% higher than in 2003 following a last minute rush. Wal-Mart, the largest US retailer, has said its December sales are expected to be better than previously forecast because of strong post-Christmas sales.\n",
      " \n",
      " It is expecting annual sales growth of between 1% and 3% for the month. Consumer confidence figures are considered a key economic indicator because consumer spending accounts for about two thirds of all economic activity in the United States. \"The continuing economic expansion, combined with job growth, has consumers ending this year on a high note,\" said Lynn Franco, director of the Conference Board's consumer research centre. \"And consumers' outlook suggests that the economy will continue to expand in the first half of next year.\" The overall US economy has performed strongly in recent months, prompting the Federal Reserve to increase interest rates five times since June.\n",
      " \n",
      " \n",
      "\n"
     ]
    }
   ],
   "source": [
    "for label in df['Label'].unique():\n",
    "    text = df[df['Label'] == label]['Text'].values[0]\n",
    "    print(f'Label: {label}, Text:{text} \\n \\n')"
   ]
  },
  {
   "cell_type": "code",
   "execution_count": 5,
   "metadata": {},
   "outputs": [
    {
     "data": {
      "text/plain": [
       "[3147, 3026, 3167, 3094, 2614, 2792, 2899, 2394, 3002, 2152]"
      ]
     },
     "execution_count": 5,
     "metadata": {},
     "output_type": "execute_result"
    }
   ],
   "source": [
    "text_lengths = [len(text) for text in df['Text'].values]\n",
    "text_lengths[0:10]"
   ]
  },
  {
   "cell_type": "code",
   "execution_count": 6,
   "metadata": {},
   "outputs": [
    {
     "name": "stdout",
     "output_type": "stream",
     "text": [
      "Mean text length: 2275.363595505618\n",
      "Median text length: 1979.0\n",
      "95th percentile text length: 4305.0\n"
     ]
    }
   ],
   "source": [
    "mean_text_length = np.mean(text_lengths)\n",
    "median_text_length = np.median(text_lengths)\n",
    "percentile_95_length = np.percentile(text_lengths, 95)\n",
    "print(f'Mean text length: {mean_text_length}')\n",
    "print(f'Median text length: {median_text_length}')\n",
    "print(f'95th percentile text length: {percentile_95_length}')"
   ]
  },
  {
   "cell_type": "code",
   "execution_count": null,
   "metadata": {},
   "outputs": [
    {
     "data": {
      "image/png": "[encoded data removed]",
      "text/plain": [
       "<Figure size 1000x700 with 1 Axes>"
      ]
     },
     "metadata": {},
     "output_type": "display_data"
    }
   ],
   "source": [
    "plt.figure(figsize=(10, 7))\n",
    "plt.hist(text_lengths, bins=30)\n",
    "plt.show()"
   ]
  },
  {
   "cell_type": "code",
   "execution_count": 7,
   "metadata": {},
   "outputs": [],
   "source": [
    "train_df = df.sample(frac=0.7, random_state=42)\n",
    "val_df = df.drop(train_df.index).sample(frac=0.5, random_state=42)\n",
    "test_df = df.drop(train_df.index).drop(val_df.index)"
   ]
  },
  {
   "cell_type": "code",
   "execution_count": 8,
   "metadata": {},
   "outputs": [],
   "source": [
    "train_dataset = tf.data.Dataset.from_tensor_slices((train_df['Text'].values, train_df['Label'].values)).batch(32).prefetch(tf.data.AUTOTUNE)\n",
    "val_dataset = tf.data.Dataset.from_tensor_slices((val_df['Text'].values, val_df['Label'].values)).batch(32).prefetch(tf.data.AUTOTUNE)\n",
    "test_dataset = tf.data.Dataset.from_tensor_slices((test_df['Text'].values, test_df['Label'].values)).batch(32).prefetch(tf.data.AUTOTUNE)"
   ]
  },
  {
   "cell_type": "markdown",
   "metadata": {},
   "source": [
    "## Model 1: Simple dense model with global pooling"
   ]
  },
  {
   "cell_type": "code",
   "execution_count": null,
   "metadata": {},
   "outputs": [],
   "source": [
    "text_vectorizer = tf.keras.layers.TextVectorization(max_tokens=100_000, output_mode='int', output_sequence_length=int(percentile_95_length))\n",
    "text_vectorizer.adapt(train_df['Text'].values)\n",
    "\n",
    "embedding = tf.keras.layers.Embedding(input_dim=len(text_vectorizer.get_vocabulary()), output_dim=128, input_length=int(percentile_95_length))"
   ]
  },
  {
   "cell_type": "code",
   "execution_count": null,
   "metadata": {},
   "outputs": [
    {
     "name": "stderr",
     "output_type": "stream",
     "text": [
      "WARNING:absl:At this time, the v2.11+ optimizer `tf.keras.optimizers.Adam` runs slowly on M1/M2 Macs, please use the legacy Keras optimizer instead, located at `tf.keras.optimizers.legacy.Adam`.\n"
     ]
    },
    {
     "name": "stdout",
     "output_type": "stream",
     "text": [
      "Epoch 1/50\n",
      "48/49 [============================>.] - ETA: 0s - loss: 1.5953 - accuracy: 0.3047INFO:tensorflow:Assets written to: model_1_dense_pooling/assets\n"
     ]
    },
    {
     "name": "stderr",
     "output_type": "stream",
     "text": [
      "INFO:tensorflow:Assets written to: model_1_dense_pooling/assets\n"
     ]
    },
    {
     "name": "stdout",
     "output_type": "stream",
     "text": [
      "49/49 [==============================] - 2s 43ms/step - loss: 1.5947 - accuracy: 0.3068 - val_loss: 1.5657 - val_accuracy: 0.4521 - lr: 0.0010\n",
      "Epoch 2/50\n",
      "49/49 [==============================] - ETA: 0s - loss: 1.4900 - accuracy: 0.6098INFO:tensorflow:Assets written to: model_1_dense_pooling/assets\n"
     ]
    },
    {
     "name": "stderr",
     "output_type": "stream",
     "text": [
      "INFO:tensorflow:Assets written to: model_1_dense_pooling/assets\n"
     ]
    },
    {
     "name": "stdout",
     "output_type": "stream",
     "text": [
      "49/49 [==============================] - 2s 36ms/step - loss: 1.4900 - accuracy: 0.6098 - val_loss: 1.3868 - val_accuracy: 0.7156 - lr: 0.0010\n",
      "Epoch 3/50\n",
      "48/49 [============================>.] - ETA: 0s - loss: 1.1055 - accuracy: 0.9108INFO:tensorflow:Assets written to: model_1_dense_pooling/assets\n"
     ]
    },
    {
     "name": "stderr",
     "output_type": "stream",
     "text": [
      "INFO:tensorflow:Assets written to: model_1_dense_pooling/assets\n"
     ]
    },
    {
     "name": "stdout",
     "output_type": "stream",
     "text": [
      "49/49 [==============================] - 2s 38ms/step - loss: 1.1008 - accuracy: 0.9121 - val_loss: 0.8538 - val_accuracy: 0.8892 - lr: 0.0010\n",
      "Epoch 4/50\n",
      "49/49 [==============================] - ETA: 0s - loss: 0.4842 - accuracy: 0.9814INFO:tensorflow:Assets written to: model_1_dense_pooling/assets\n"
     ]
    },
    {
     "name": "stderr",
     "output_type": "stream",
     "text": [
      "INFO:tensorflow:Assets written to: model_1_dense_pooling/assets\n"
     ]
    },
    {
     "name": "stdout",
     "output_type": "stream",
     "text": [
      "49/49 [==============================] - 2s 38ms/step - loss: 0.4842 - accuracy: 0.9814 - val_loss: 0.3998 - val_accuracy: 0.9461 - lr: 0.0010\n",
      "Epoch 5/50\n",
      "48/49 [============================>.] - ETA: 0s - loss: 0.1710 - accuracy: 0.9915INFO:tensorflow:Assets written to: model_1_dense_pooling/assets\n"
     ]
    },
    {
     "name": "stderr",
     "output_type": "stream",
     "text": [
      "INFO:tensorflow:Assets written to: model_1_dense_pooling/assets\n"
     ]
    },
    {
     "name": "stdout",
     "output_type": "stream",
     "text": [
      "49/49 [==============================] - 2s 36ms/step - loss: 0.1701 - accuracy: 0.9917 - val_loss: 0.2449 - val_accuracy: 0.9461 - lr: 0.0010\n",
      "Epoch 6/50\n",
      "49/49 [==============================] - ETA: 0s - loss: 0.0737 - accuracy: 0.9968INFO:tensorflow:Assets written to: model_1_dense_pooling/assets\n"
     ]
    },
    {
     "name": "stderr",
     "output_type": "stream",
     "text": [
      "INFO:tensorflow:Assets written to: model_1_dense_pooling/assets\n"
     ]
    },
    {
     "name": "stdout",
     "output_type": "stream",
     "text": [
      "49/49 [==============================] - 2s 38ms/step - loss: 0.0737 - accuracy: 0.9968 - val_loss: 0.1865 - val_accuracy: 0.9581 - lr: 0.0010\n",
      "Epoch 7/50\n",
      "48/49 [============================>.] - ETA: 0s - loss: 0.0392 - accuracy: 0.9993INFO:tensorflow:Assets written to: model_1_dense_pooling/assets\n"
     ]
    },
    {
     "name": "stderr",
     "output_type": "stream",
     "text": [
      "INFO:tensorflow:Assets written to: model_1_dense_pooling/assets\n"
     ]
    },
    {
     "name": "stdout",
     "output_type": "stream",
     "text": [
      "49/49 [==============================] - 2s 38ms/step - loss: 0.0391 - accuracy: 0.9994 - val_loss: 0.1593 - val_accuracy: 0.9611 - lr: 0.0010\n",
      "Epoch 8/50\n",
      "49/49 [==============================] - ETA: 0s - loss: 0.0233 - accuracy: 1.0000INFO:tensorflow:Assets written to: model_1_dense_pooling/assets\n"
     ]
    },
    {
     "name": "stderr",
     "output_type": "stream",
     "text": [
      "INFO:tensorflow:Assets written to: model_1_dense_pooling/assets\n"
     ]
    },
    {
     "name": "stdout",
     "output_type": "stream",
     "text": [
      "49/49 [==============================] - 2s 35ms/step - loss: 0.0233 - accuracy: 1.0000 - val_loss: 0.1449 - val_accuracy: 0.9611 - lr: 0.0010\n",
      "Epoch 9/50\n",
      "48/49 [============================>.] - ETA: 0s - loss: 0.0150 - accuracy: 1.0000INFO:tensorflow:Assets written to: model_1_dense_pooling/assets\n"
     ]
    },
    {
     "name": "stderr",
     "output_type": "stream",
     "text": [
      "INFO:tensorflow:Assets written to: model_1_dense_pooling/assets\n"
     ]
    },
    {
     "name": "stdout",
     "output_type": "stream",
     "text": [
      "49/49 [==============================] - 2s 39ms/step - loss: 0.0150 - accuracy: 1.0000 - val_loss: 0.1360 - val_accuracy: 0.9611 - lr: 0.0010\n",
      "Epoch 10/50\n",
      "49/49 [==============================] - ETA: 0s - loss: 0.0103 - accuracy: 1.0000INFO:tensorflow:Assets written to: model_1_dense_pooling/assets\n"
     ]
    },
    {
     "name": "stderr",
     "output_type": "stream",
     "text": [
      "INFO:tensorflow:Assets written to: model_1_dense_pooling/assets\n"
     ]
    },
    {
     "name": "stdout",
     "output_type": "stream",
     "text": [
      "49/49 [==============================] - 2s 38ms/step - loss: 0.0103 - accuracy: 1.0000 - val_loss: 0.1305 - val_accuracy: 0.9641 - lr: 0.0010\n",
      "Epoch 11/50\n",
      "48/49 [============================>.] - ETA: 0s - loss: 0.0075 - accuracy: 1.0000INFO:tensorflow:Assets written to: model_1_dense_pooling/assets\n"
     ]
    },
    {
     "name": "stderr",
     "output_type": "stream",
     "text": [
      "INFO:tensorflow:Assets written to: model_1_dense_pooling/assets\n"
     ]
    },
    {
     "name": "stdout",
     "output_type": "stream",
     "text": [
      "49/49 [==============================] - 2s 36ms/step - loss: 0.0075 - accuracy: 1.0000 - val_loss: 0.1266 - val_accuracy: 0.9671 - lr: 0.0010\n",
      "Epoch 12/50\n",
      "49/49 [==============================] - ETA: 0s - loss: 0.0057 - accuracy: 1.0000INFO:tensorflow:Assets written to: model_1_dense_pooling/assets\n"
     ]
    },
    {
     "name": "stderr",
     "output_type": "stream",
     "text": [
      "INFO:tensorflow:Assets written to: model_1_dense_pooling/assets\n"
     ]
    },
    {
     "name": "stdout",
     "output_type": "stream",
     "text": [
      "49/49 [==============================] - 2s 38ms/step - loss: 0.0057 - accuracy: 1.0000 - val_loss: 0.1238 - val_accuracy: 0.9671 - lr: 0.0010\n",
      "Epoch 13/50\n",
      "48/49 [============================>.] - ETA: 0s - loss: 0.0045 - accuracy: 1.0000INFO:tensorflow:Assets written to: model_1_dense_pooling/assets\n"
     ]
    },
    {
     "name": "stderr",
     "output_type": "stream",
     "text": [
      "INFO:tensorflow:Assets written to: model_1_dense_pooling/assets\n"
     ]
    },
    {
     "name": "stdout",
     "output_type": "stream",
     "text": [
      "49/49 [==============================] - 2s 38ms/step - loss: 0.0045 - accuracy: 1.0000 - val_loss: 0.1217 - val_accuracy: 0.9671 - lr: 0.0010\n",
      "Epoch 14/50\n",
      "49/49 [==============================] - ETA: 0s - loss: 0.0036 - accuracy: 1.0000INFO:tensorflow:Assets written to: model_1_dense_pooling/assets\n"
     ]
    },
    {
     "name": "stderr",
     "output_type": "stream",
     "text": [
      "INFO:tensorflow:Assets written to: model_1_dense_pooling/assets\n"
     ]
    },
    {
     "name": "stdout",
     "output_type": "stream",
     "text": [
      "49/49 [==============================] - 2s 36ms/step - loss: 0.0036 - accuracy: 1.0000 - val_loss: 0.1198 - val_accuracy: 0.9671 - lr: 0.0010\n",
      "Epoch 15/50\n",
      "48/49 [============================>.] - ETA: 0s - loss: 0.0029 - accuracy: 1.0000INFO:tensorflow:Assets written to: model_1_dense_pooling/assets\n"
     ]
    },
    {
     "name": "stderr",
     "output_type": "stream",
     "text": [
      "INFO:tensorflow:Assets written to: model_1_dense_pooling/assets\n"
     ]
    },
    {
     "name": "stdout",
     "output_type": "stream",
     "text": [
      "49/49 [==============================] - 2s 38ms/step - loss: 0.0029 - accuracy: 1.0000 - val_loss: 0.1185 - val_accuracy: 0.9671 - lr: 0.0010\n",
      "Epoch 16/50\n",
      "49/49 [==============================] - ETA: 0s - loss: 0.0024 - accuracy: 1.0000INFO:tensorflow:Assets written to: model_1_dense_pooling/assets\n"
     ]
    },
    {
     "name": "stderr",
     "output_type": "stream",
     "text": [
      "INFO:tensorflow:Assets written to: model_1_dense_pooling/assets\n"
     ]
    },
    {
     "name": "stdout",
     "output_type": "stream",
     "text": [
      "49/49 [==============================] - 2s 35ms/step - loss: 0.0024 - accuracy: 1.0000 - val_loss: 0.1172 - val_accuracy: 0.9671 - lr: 0.0010\n",
      "Epoch 17/50\n",
      "49/49 [==============================] - ETA: 0s - loss: 0.0019 - accuracy: 1.0000INFO:tensorflow:Assets written to: model_1_dense_pooling/assets\n"
     ]
    },
    {
     "name": "stderr",
     "output_type": "stream",
     "text": [
      "INFO:tensorflow:Assets written to: model_1_dense_pooling/assets\n"
     ]
    },
    {
     "name": "stdout",
     "output_type": "stream",
     "text": [
      "49/49 [==============================] - 2s 38ms/step - loss: 0.0019 - accuracy: 1.0000 - val_loss: 0.1161 - val_accuracy: 0.9671 - lr: 0.0010\n",
      "Epoch 18/50\n",
      "48/49 [============================>.] - ETA: 0s - loss: 0.0016 - accuracy: 1.0000INFO:tensorflow:Assets written to: model_1_dense_pooling/assets\n"
     ]
    },
    {
     "name": "stderr",
     "output_type": "stream",
     "text": [
      "INFO:tensorflow:Assets written to: model_1_dense_pooling/assets\n"
     ]
    },
    {
     "name": "stdout",
     "output_type": "stream",
     "text": [
      "49/49 [==============================] - 2s 39ms/step - loss: 0.0016 - accuracy: 1.0000 - val_loss: 0.1152 - val_accuracy: 0.9671 - lr: 0.0010\n",
      "Epoch 19/50\n",
      "49/49 [==============================] - 1s 23ms/step - loss: 0.0014 - accuracy: 1.0000 - val_loss: 0.1170 - val_accuracy: 0.9671 - lr: 0.0010\n",
      "Epoch 20/50\n",
      "48/49 [============================>.] - ETA: 0s - loss: 0.0011 - accuracy: 1.0000INFO:tensorflow:Assets written to: model_1_dense_pooling/assets\n"
     ]
    },
    {
     "name": "stderr",
     "output_type": "stream",
     "text": [
      "INFO:tensorflow:Assets written to: model_1_dense_pooling/assets\n"
     ]
    },
    {
     "name": "stdout",
     "output_type": "stream",
     "text": [
      "49/49 [==============================] - 2s 35ms/step - loss: 0.0011 - accuracy: 1.0000 - val_loss: 0.1146 - val_accuracy: 0.9641 - lr: 0.0010\n",
      "Epoch 21/50\n",
      "48/49 [============================>.] - ETA: 0s - loss: 8.8552e-04 - accuracy: 1.0000INFO:tensorflow:Assets written to: model_1_dense_pooling/assets\n"
     ]
    },
    {
     "name": "stderr",
     "output_type": "stream",
     "text": [
      "INFO:tensorflow:Assets written to: model_1_dense_pooling/assets\n"
     ]
    },
    {
     "name": "stdout",
     "output_type": "stream",
     "text": [
      "49/49 [==============================] - 2s 40ms/step - loss: 8.8459e-04 - accuracy: 1.0000 - val_loss: 0.1136 - val_accuracy: 0.9641 - lr: 0.0010\n",
      "Epoch 22/50\n",
      "47/49 [===========================>..] - ETA: 0s - loss: 7.2616e-04 - accuracy: 1.0000INFO:tensorflow:Assets written to: model_1_dense_pooling/assets\n"
     ]
    },
    {
     "name": "stderr",
     "output_type": "stream",
     "text": [
      "INFO:tensorflow:Assets written to: model_1_dense_pooling/assets\n"
     ]
    },
    {
     "name": "stdout",
     "output_type": "stream",
     "text": [
      "49/49 [==============================] - 2s 38ms/step - loss: 7.2661e-04 - accuracy: 1.0000 - val_loss: 0.1130 - val_accuracy: 0.9641 - lr: 0.0010\n",
      "Epoch 23/50\n",
      "49/49 [==============================] - ETA: 0s - loss: 6.0585e-04 - accuracy: 1.0000INFO:tensorflow:Assets written to: model_1_dense_pooling/assets\n"
     ]
    },
    {
     "name": "stderr",
     "output_type": "stream",
     "text": [
      "INFO:tensorflow:Assets written to: model_1_dense_pooling/assets\n"
     ]
    },
    {
     "name": "stdout",
     "output_type": "stream",
     "text": [
      "49/49 [==============================] - 2s 36ms/step - loss: 6.0585e-04 - accuracy: 1.0000 - val_loss: 0.1127 - val_accuracy: 0.9641 - lr: 0.0010\n",
      "Epoch 24/50\n",
      "49/49 [==============================] - 1s 24ms/step - loss: 5.1256e-04 - accuracy: 1.0000 - val_loss: 0.1128 - val_accuracy: 0.9641 - lr: 0.0010\n",
      "Epoch 25/50\n",
      "49/49 [==============================] - 1s 23ms/step - loss: 4.3852e-04 - accuracy: 1.0000 - val_loss: 0.1128 - val_accuracy: 0.9641 - lr: 0.0010\n",
      "Epoch 26/50\n",
      "49/49 [==============================] - 1s 24ms/step - loss: 3.7958e-04 - accuracy: 1.0000 - val_loss: 0.1129 - val_accuracy: 0.9641 - lr: 0.0010\n"
     ]
    }
   ],
   "source": [
    "inputs = tf.keras.layers.Input(shape=[], dtype=tf.string)\n",
    "x = text_vectorizer(inputs)\n",
    "x = embedding(x)\n",
    "x = tf.keras.layers.GlobalMaxPool1D()(x)\n",
    "x = tf.keras.layers.Dense(64, activation='relu')(x)\n",
    "x = tf.keras.layers.Dense(5, activation='softmax')(x)\n",
    "\n",
    "model_1 = tf.keras.Model(inputs, x, name='model_1_dense_pooling')\n",
    "\n",
    "model_1.compile(loss=tf.keras.losses.SparseCategoricalCrossentropy(), optimizer=tf.keras.optimizers.Adam(), metrics=['accuracy'])\n",
    "model_1_history = model_1.fit(train_dataset, epochs=50, validation_data=val_dataset, callbacks=[\n",
    "    tf.keras.callbacks.EarlyStopping(monitor='val_loss', patience=3, restore_best_weights=True),\n",
    "    tf.keras.callbacks.ModelCheckpoint(model_1.name, save_best_only=True),\n",
    "    tf.keras.callbacks.ReduceLROnPlateau(monitor='val_loss', patience=5, verbose=1)\n",
    "])"
   ]
  },
  {
   "cell_type": "code",
   "execution_count": null,
   "metadata": {},
   "outputs": [
    {
     "name": "stdout",
     "output_type": "stream",
     "text": [
      "11/11 [==============================] - 0s 6ms/step - loss: 0.0868 - accuracy: 0.9790\n"
     ]
    },
    {
     "data": {
      "text/plain": [
       "[0.0868089571595192, 0.9789789915084839]"
      ]
     },
     "execution_count": 38,
     "metadata": {},
     "output_type": "execute_result"
    }
   ],
   "source": [
    "model_1.evaluate(test_dataset)"
   ]
  },
  {
   "cell_type": "code",
   "execution_count": null,
   "metadata": {},
   "outputs": [
    {
     "data": {
      "image/png": "[encoded data removed]",
      "text/plain": [
       "<IPython.core.display.Image object>"
      ]
     },
     "execution_count": 45,
     "metadata": {},
     "output_type": "execute_result"
    }
   ],
   "source": [
    "tf.keras.utils.plot_model(model_1, show_shapes=True)"
   ]
  },
  {
   "cell_type": "markdown",
   "metadata": {},
   "source": [
    "## Model 2: LSTM model"
   ]
  },
  {
   "cell_type": "code",
   "execution_count": 18,
   "metadata": {},
   "outputs": [],
   "source": [
    "text_vectorizer = tf.keras.layers.TextVectorization(max_tokens=100_000, output_mode='int', output_sequence_length=50, pad_to_max_tokens=True)\n",
    "text_vectorizer.adapt(train_df['Text'].values)\n",
    "\n",
    "embedding = tf.keras.layers.Embedding(input_dim=len(text_vectorizer.get_vocabulary()), output_dim=128, input_length=50)"
   ]
  },
  {
   "cell_type": "code",
   "execution_count": 19,
   "metadata": {},
   "outputs": [
    {
     "name": "stdout",
     "output_type": "stream",
     "text": [
      "Epoch 1/50\n",
      "48/49 [============================>.] - ETA: 0s - loss: 1.5980 - accuracy: 0.2539INFO:tensorflow:Assets written to: model_2_lstm/assets\n"
     ]
    },
    {
     "name": "stderr",
     "output_type": "stream",
     "text": [
      "INFO:tensorflow:Assets written to: model_2_lstm/assets\n"
     ]
    },
    {
     "name": "stdout",
     "output_type": "stream",
     "text": [
      "49/49 [==============================] - 5s 89ms/step - loss: 1.5973 - accuracy: 0.2555 - val_loss: 1.5700 - val_accuracy: 0.3473 - lr: 0.0010\n",
      "Epoch 2/50\n",
      "49/49 [==============================] - ETA: 0s - loss: 1.1755 - accuracy: 0.5924INFO:tensorflow:Assets written to: model_2_lstm/assets\n"
     ]
    },
    {
     "name": "stderr",
     "output_type": "stream",
     "text": [
      "INFO:tensorflow:Assets written to: model_2_lstm/assets\n"
     ]
    },
    {
     "name": "stdout",
     "output_type": "stream",
     "text": [
      "49/49 [==============================] - 4s 82ms/step - loss: 1.1755 - accuracy: 0.5924 - val_loss: 0.6926 - val_accuracy: 0.7335 - lr: 0.0010\n",
      "Epoch 3/50\n",
      "49/49 [==============================] - ETA: 0s - loss: 0.2760 - accuracy: 0.9429INFO:tensorflow:Assets written to: model_2_lstm/assets\n"
     ]
    },
    {
     "name": "stderr",
     "output_type": "stream",
     "text": [
      "INFO:tensorflow:Assets written to: model_2_lstm/assets\n"
     ]
    },
    {
     "name": "stdout",
     "output_type": "stream",
     "text": [
      "49/49 [==============================] - 4s 83ms/step - loss: 0.2760 - accuracy: 0.9429 - val_loss: 0.4155 - val_accuracy: 0.8593 - lr: 0.0010\n",
      "Epoch 4/50\n",
      "49/49 [==============================] - ETA: 0s - loss: 0.0694 - accuracy: 0.9878INFO:tensorflow:Assets written to: model_2_lstm/assets\n"
     ]
    },
    {
     "name": "stderr",
     "output_type": "stream",
     "text": [
      "INFO:tensorflow:Assets written to: model_2_lstm/assets\n"
     ]
    },
    {
     "name": "stdout",
     "output_type": "stream",
     "text": [
      "49/49 [==============================] - 4s 79ms/step - loss: 0.0694 - accuracy: 0.9878 - val_loss: 0.3417 - val_accuracy: 0.8892 - lr: 0.0010\n",
      "Epoch 5/50\n",
      "49/49 [==============================] - 1s 25ms/step - loss: 0.0274 - accuracy: 0.9955 - val_loss: 0.4389 - val_accuracy: 0.8653 - lr: 0.0010\n",
      "Epoch 6/50\n",
      "49/49 [==============================] - 1s 24ms/step - loss: 0.0231 - accuracy: 0.9942 - val_loss: 0.3927 - val_accuracy: 0.8862 - lr: 0.0010\n",
      "Epoch 7/50\n",
      "49/49 [==============================] - 1s 25ms/step - loss: 0.0074 - accuracy: 1.0000 - val_loss: 0.4416 - val_accuracy: 0.8772 - lr: 0.0010\n"
     ]
    }
   ],
   "source": [
    "inputs = tf.keras.layers.Input(shape=[], dtype=tf.string)\n",
    "x = text_vectorizer(inputs)\n",
    "x = embedding(x)\n",
    "x = tf.keras.layers.GRU(64)(x)\n",
    "outputs = tf.keras.layers.Dense(5, activation='softmax')(x)\n",
    "\n",
    "model_2 = tf.keras.Model(inputs, outputs, name='model_2_lstm')\n",
    "\n",
    "model_2.compile(loss=tf.keras.losses.SparseCategoricalCrossentropy(), optimizer=tf.keras.optimizers.legacy.Adam(), metrics=['accuracy'])\n",
    "model_2_history = model_2.fit(train_dataset, epochs=50, validation_data=val_dataset, callbacks=[\n",
    "    tf.keras.callbacks.EarlyStopping(monitor='val_loss', patience=3, restore_best_weights=True),\n",
    "    tf.keras.callbacks.ModelCheckpoint(model_2.name, save_best_only=True),\n",
    "    tf.keras.callbacks.ReduceLROnPlateau(monitor='val_loss', patience=5, verbose=1)\n",
    "])"
   ]
  },
  {
   "cell_type": "code",
   "execution_count": 9,
   "metadata": {},
   "outputs": [
    {
     "name": "stdout",
     "output_type": "stream",
     "text": [
      "11/11 [==============================] - 0s 6ms/step - loss: 0.3502 - accuracy: 0.9069\n"
     ]
    },
    {
     "data": {
      "text/plain": [
       "[0.350151002407074, 0.9069069027900696]"
      ]
     },
     "execution_count": 9,
     "metadata": {},
     "output_type": "execute_result"
    }
   ],
   "source": [
    "model_2.evaluate(test_dataset)"
   ]
  },
  {
   "cell_type": "markdown",
   "metadata": {},
   "source": [
    "## Model 3: CNN / Conv1D"
   ]
  },
  {
   "cell_type": "code",
   "execution_count": 10,
   "metadata": {},
   "outputs": [],
   "source": [
    "text_vectorizer = tf.keras.layers.TextVectorization(max_tokens=100_000, output_mode='int', output_sequence_length=int(percentile_95_length), pad_to_max_tokens=True)\n",
    "text_vectorizer.adapt(train_df['Text'].values)\n",
    "\n",
    "embedding = tf.keras.layers.Embedding(input_dim=len(text_vectorizer.get_vocabulary()), output_dim=128, input_length=int(percentile_95_length))"
   ]
  },
  {
   "cell_type": "code",
   "execution_count": 11,
   "metadata": {},
   "outputs": [
    {
     "name": "stderr",
     "output_type": "stream",
     "text": [
      "WARNING:absl:At this time, the v2.11+ optimizer `tf.keras.optimizers.Adam` runs slowly on M1/M2 Macs, please use the legacy Keras optimizer instead, located at `tf.keras.optimizers.legacy.Adam`.\n"
     ]
    },
    {
     "name": "stdout",
     "output_type": "stream",
     "text": [
      "Epoch 1/50\n",
      "49/49 [==============================] - ETA: 0s - loss: 1.5651 - accuracy: 0.4082INFO:tensorflow:Assets written to: model_3_conv1d/assets\n"
     ]
    },
    {
     "name": "stderr",
     "output_type": "stream",
     "text": [
      "INFO:tensorflow:Assets written to: model_3_conv1d/assets\n"
     ]
    },
    {
     "name": "stdout",
     "output_type": "stream",
     "text": [
      "49/49 [==============================] - 8s 156ms/step - loss: 1.5651 - accuracy: 0.4082 - val_loss: 1.4699 - val_accuracy: 0.5000 - lr: 0.0010\n",
      "Epoch 2/50\n",
      "49/49 [==============================] - ETA: 0s - loss: 1.0158 - accuracy: 0.8325INFO:tensorflow:Assets written to: model_3_conv1d/assets\n"
     ]
    },
    {
     "name": "stderr",
     "output_type": "stream",
     "text": [
      "INFO:tensorflow:Assets written to: model_3_conv1d/assets\n"
     ]
    },
    {
     "name": "stdout",
     "output_type": "stream",
     "text": [
      "49/49 [==============================] - 7s 145ms/step - loss: 1.0158 - accuracy: 0.8325 - val_loss: 0.6395 - val_accuracy: 0.8772 - lr: 0.0010\n",
      "Epoch 3/50\n",
      "49/49 [==============================] - ETA: 0s - loss: 0.2004 - accuracy: 0.9750INFO:tensorflow:Assets written to: model_3_conv1d/assets\n"
     ]
    },
    {
     "name": "stderr",
     "output_type": "stream",
     "text": [
      "INFO:tensorflow:Assets written to: model_3_conv1d/assets\n"
     ]
    },
    {
     "name": "stdout",
     "output_type": "stream",
     "text": [
      "49/49 [==============================] - 7s 142ms/step - loss: 0.2004 - accuracy: 0.9750 - val_loss: 0.2759 - val_accuracy: 0.9222 - lr: 0.0010\n",
      "Epoch 4/50\n",
      "49/49 [==============================] - ETA: 0s - loss: 0.0311 - accuracy: 0.9981INFO:tensorflow:Assets written to: model_3_conv1d/assets\n"
     ]
    },
    {
     "name": "stderr",
     "output_type": "stream",
     "text": [
      "INFO:tensorflow:Assets written to: model_3_conv1d/assets\n"
     ]
    },
    {
     "name": "stdout",
     "output_type": "stream",
     "text": [
      "49/49 [==============================] - 7s 145ms/step - loss: 0.0311 - accuracy: 0.9981 - val_loss: 0.2218 - val_accuracy: 0.9371 - lr: 0.0010\n",
      "Epoch 5/50\n",
      "49/49 [==============================] - ETA: 0s - loss: 0.0103 - accuracy: 1.0000INFO:tensorflow:Assets written to: model_3_conv1d/assets\n"
     ]
    },
    {
     "name": "stderr",
     "output_type": "stream",
     "text": [
      "INFO:tensorflow:Assets written to: model_3_conv1d/assets\n"
     ]
    },
    {
     "name": "stdout",
     "output_type": "stream",
     "text": [
      "49/49 [==============================] - 7s 144ms/step - loss: 0.0103 - accuracy: 1.0000 - val_loss: 0.2015 - val_accuracy: 0.9401 - lr: 0.0010\n",
      "Epoch 6/50\n",
      "49/49 [==============================] - ETA: 0s - loss: 0.0055 - accuracy: 1.0000INFO:tensorflow:Assets written to: model_3_conv1d/assets\n"
     ]
    },
    {
     "name": "stderr",
     "output_type": "stream",
     "text": [
      "INFO:tensorflow:Assets written to: model_3_conv1d/assets\n"
     ]
    },
    {
     "name": "stdout",
     "output_type": "stream",
     "text": [
      "49/49 [==============================] - 7s 151ms/step - loss: 0.0055 - accuracy: 1.0000 - val_loss: 0.1963 - val_accuracy: 0.9401 - lr: 0.0010\n",
      "Epoch 7/50\n",
      "49/49 [==============================] - ETA: 0s - loss: 0.0036 - accuracy: 1.0000INFO:tensorflow:Assets written to: model_3_conv1d/assets\n"
     ]
    },
    {
     "name": "stderr",
     "output_type": "stream",
     "text": [
      "INFO:tensorflow:Assets written to: model_3_conv1d/assets\n"
     ]
    },
    {
     "name": "stdout",
     "output_type": "stream",
     "text": [
      "49/49 [==============================] - 7s 147ms/step - loss: 0.0036 - accuracy: 1.0000 - val_loss: 0.1926 - val_accuracy: 0.9401 - lr: 0.0010\n",
      "Epoch 8/50\n",
      "49/49 [==============================] - ETA: 0s - loss: 0.0025 - accuracy: 1.0000INFO:tensorflow:Assets written to: model_3_conv1d/assets\n"
     ]
    },
    {
     "name": "stderr",
     "output_type": "stream",
     "text": [
      "INFO:tensorflow:Assets written to: model_3_conv1d/assets\n"
     ]
    },
    {
     "name": "stdout",
     "output_type": "stream",
     "text": [
      "49/49 [==============================] - 7s 146ms/step - loss: 0.0025 - accuracy: 1.0000 - val_loss: 0.1902 - val_accuracy: 0.9401 - lr: 0.0010\n",
      "Epoch 9/50\n",
      "49/49 [==============================] - ETA: 0s - loss: 0.0019 - accuracy: 1.0000INFO:tensorflow:Assets written to: model_3_conv1d/assets\n"
     ]
    },
    {
     "name": "stderr",
     "output_type": "stream",
     "text": [
      "INFO:tensorflow:Assets written to: model_3_conv1d/assets\n"
     ]
    },
    {
     "name": "stdout",
     "output_type": "stream",
     "text": [
      "49/49 [==============================] - 7s 147ms/step - loss: 0.0019 - accuracy: 1.0000 - val_loss: 0.1886 - val_accuracy: 0.9401 - lr: 0.0010\n",
      "Epoch 10/50\n",
      "49/49 [==============================] - ETA: 0s - loss: 0.0015 - accuracy: 1.0000INFO:tensorflow:Assets written to: model_3_conv1d/assets\n"
     ]
    },
    {
     "name": "stderr",
     "output_type": "stream",
     "text": [
      "INFO:tensorflow:Assets written to: model_3_conv1d/assets\n"
     ]
    },
    {
     "name": "stdout",
     "output_type": "stream",
     "text": [
      "49/49 [==============================] - 7s 147ms/step - loss: 0.0015 - accuracy: 1.0000 - val_loss: 0.1874 - val_accuracy: 0.9371 - lr: 0.0010\n",
      "Epoch 11/50\n",
      "49/49 [==============================] - ETA: 0s - loss: 0.0012 - accuracy: 1.0000INFO:tensorflow:Assets written to: model_3_conv1d/assets\n"
     ]
    },
    {
     "name": "stderr",
     "output_type": "stream",
     "text": [
      "INFO:tensorflow:Assets written to: model_3_conv1d/assets\n"
     ]
    },
    {
     "name": "stdout",
     "output_type": "stream",
     "text": [
      "49/49 [==============================] - 7s 150ms/step - loss: 0.0012 - accuracy: 1.0000 - val_loss: 0.1866 - val_accuracy: 0.9371 - lr: 0.0010\n",
      "Epoch 12/50\n",
      "49/49 [==============================] - ETA: 0s - loss: 0.0010 - accuracy: 1.0000INFO:tensorflow:Assets written to: model_3_conv1d/assets\n"
     ]
    },
    {
     "name": "stderr",
     "output_type": "stream",
     "text": [
      "INFO:tensorflow:Assets written to: model_3_conv1d/assets\n"
     ]
    },
    {
     "name": "stdout",
     "output_type": "stream",
     "text": [
      "49/49 [==============================] - 7s 150ms/step - loss: 0.0010 - accuracy: 1.0000 - val_loss: 0.1860 - val_accuracy: 0.9371 - lr: 0.0010\n",
      "Epoch 13/50\n",
      "49/49 [==============================] - ETA: 0s - loss: 8.4299e-04 - accuracy: 1.0000INFO:tensorflow:Assets written to: model_3_conv1d/assets\n"
     ]
    },
    {
     "name": "stderr",
     "output_type": "stream",
     "text": [
      "INFO:tensorflow:Assets written to: model_3_conv1d/assets\n"
     ]
    },
    {
     "name": "stdout",
     "output_type": "stream",
     "text": [
      "49/49 [==============================] - 7s 146ms/step - loss: 8.4299e-04 - accuracy: 1.0000 - val_loss: 0.1855 - val_accuracy: 0.9371 - lr: 0.0010\n",
      "Epoch 14/50\n",
      "49/49 [==============================] - ETA: 0s - loss: 7.1812e-04 - accuracy: 1.0000INFO:tensorflow:Assets written to: model_3_conv1d/assets\n"
     ]
    },
    {
     "name": "stderr",
     "output_type": "stream",
     "text": [
      "INFO:tensorflow:Assets written to: model_3_conv1d/assets\n"
     ]
    },
    {
     "name": "stdout",
     "output_type": "stream",
     "text": [
      "49/49 [==============================] - 7s 147ms/step - loss: 7.1812e-04 - accuracy: 1.0000 - val_loss: 0.1852 - val_accuracy: 0.9371 - lr: 0.0010\n",
      "Epoch 15/50\n",
      "49/49 [==============================] - ETA: 0s - loss: 6.1892e-04 - accuracy: 1.0000INFO:tensorflow:Assets written to: model_3_conv1d/assets\n"
     ]
    },
    {
     "name": "stderr",
     "output_type": "stream",
     "text": [
      "INFO:tensorflow:Assets written to: model_3_conv1d/assets\n"
     ]
    },
    {
     "name": "stdout",
     "output_type": "stream",
     "text": [
      "49/49 [==============================] - 7s 149ms/step - loss: 6.1892e-04 - accuracy: 1.0000 - val_loss: 0.1850 - val_accuracy: 0.9371 - lr: 0.0010\n",
      "Epoch 16/50\n",
      "49/49 [==============================] - ETA: 0s - loss: 5.3806e-04 - accuracy: 1.0000INFO:tensorflow:Assets written to: model_3_conv1d/assets\n"
     ]
    },
    {
     "name": "stderr",
     "output_type": "stream",
     "text": [
      "INFO:tensorflow:Assets written to: model_3_conv1d/assets\n"
     ]
    },
    {
     "name": "stdout",
     "output_type": "stream",
     "text": [
      "49/49 [==============================] - 7s 146ms/step - loss: 5.3806e-04 - accuracy: 1.0000 - val_loss: 0.1849 - val_accuracy: 0.9401 - lr: 0.0010\n",
      "Epoch 17/50\n",
      "49/49 [==============================] - ETA: 0s - loss: 4.7065e-04 - accuracy: 1.0000INFO:tensorflow:Assets written to: model_3_conv1d/assets\n"
     ]
    },
    {
     "name": "stderr",
     "output_type": "stream",
     "text": [
      "INFO:tensorflow:Assets written to: model_3_conv1d/assets\n"
     ]
    },
    {
     "name": "stdout",
     "output_type": "stream",
     "text": [
      "49/49 [==============================] - 7s 149ms/step - loss: 4.7065e-04 - accuracy: 1.0000 - val_loss: 0.1848 - val_accuracy: 0.9401 - lr: 0.0010\n",
      "Epoch 18/50\n",
      "49/49 [==============================] - ETA: 0s - loss: 4.1149e-04 - accuracy: 1.0000INFO:tensorflow:Assets written to: model_3_conv1d/assets\n"
     ]
    },
    {
     "name": "stderr",
     "output_type": "stream",
     "text": [
      "INFO:tensorflow:Assets written to: model_3_conv1d/assets\n"
     ]
    },
    {
     "name": "stdout",
     "output_type": "stream",
     "text": [
      "49/49 [==============================] - 7s 146ms/step - loss: 4.1149e-04 - accuracy: 1.0000 - val_loss: 0.1848 - val_accuracy: 0.9401 - lr: 0.0010\n",
      "Epoch 19/50\n",
      "49/49 [==============================] - ETA: 0s - loss: 3.6093e-04 - accuracy: 1.0000INFO:tensorflow:Assets written to: model_3_conv1d/assets\n"
     ]
    },
    {
     "name": "stderr",
     "output_type": "stream",
     "text": [
      "INFO:tensorflow:Assets written to: model_3_conv1d/assets\n"
     ]
    },
    {
     "name": "stdout",
     "output_type": "stream",
     "text": [
      "49/49 [==============================] - 7s 148ms/step - loss: 3.6093e-04 - accuracy: 1.0000 - val_loss: 0.1847 - val_accuracy: 0.9371 - lr: 0.0010\n",
      "Epoch 20/50\n",
      "49/49 [==============================] - 6s 131ms/step - loss: 3.1774e-04 - accuracy: 1.0000 - val_loss: 0.1847 - val_accuracy: 0.9371 - lr: 0.0010\n",
      "Epoch 21/50\n",
      "49/49 [==============================] - 6s 131ms/step - loss: 2.8063e-04 - accuracy: 1.0000 - val_loss: 0.1848 - val_accuracy: 0.9371 - lr: 0.0010\n",
      "Epoch 22/50\n",
      "49/49 [==============================] - 7s 136ms/step - loss: 2.4866e-04 - accuracy: 1.0000 - val_loss: 0.1850 - val_accuracy: 0.9371 - lr: 0.0010\n"
     ]
    }
   ],
   "source": [
    "inputs = tf.keras.layers.Input(shape=[], dtype=tf.string)\n",
    "x = text_vectorizer(inputs)\n",
    "x = embedding(x)\n",
    "x = tf.keras.layers.Conv1D(64, kernel_size=5, padding='same', activation='relu')(x)\n",
    "x = tf.keras.layers.GlobalMaxPool1D()(x)\n",
    "x = tf.keras.layers.Dense(64, activation='relu')(x)\n",
    "outputs = tf.keras.layers.Dense(5, activation='softmax')(x)\n",
    "\n",
    "model_3 = tf.keras.Model(inputs, outputs, name='model_3_conv1d')\n",
    "\n",
    "model_3.compile(loss=tf.keras.losses.SparseCategoricalCrossentropy(), optimizer=tf.keras.optimizers.Adam(), metrics=['accuracy'])\n",
    "model_3_history = model_3.fit(train_dataset, epochs=50, validation_data=val_dataset, callbacks=[\n",
    "        tf.keras.callbacks.EarlyStopping(monitor='val_loss', patience=3, restore_best_weights=True),\n",
    "        tf.keras.callbacks.ModelCheckpoint(model_3.name, save_best_only=True),\n",
    "        tf.keras.callbacks.ReduceLROnPlateau(monitor='val_loss', patience=5, verbose=1)\n",
    "    ]\n",
    ")"
   ]
  },
  {
   "cell_type": "code",
   "execution_count": 12,
   "metadata": {},
   "outputs": [
    {
     "name": "stdout",
     "output_type": "stream",
     "text": [
      "11/11 [==============================] - 0s 30ms/step - loss: 0.1294 - accuracy: 0.9640\n"
     ]
    },
    {
     "data": {
      "text/plain": [
       "[0.12941887974739075, 0.9639639854431152]"
      ]
     },
     "execution_count": 12,
     "metadata": {},
     "output_type": "execute_result"
    }
   ],
   "source": [
    "model_3.evaluate(test_dataset)"
   ]
  },
  {
   "cell_type": "markdown",
   "metadata": {},
   "source": [
    "## Model 4: CNN with dropout (due to overfitting)"
   ]
  },
  {
   "cell_type": "code",
   "execution_count": 48,
   "metadata": {},
   "outputs": [],
   "source": [
    "text_vectorizer = tf.keras.layers.TextVectorization(max_tokens=100_000, output_mode='int', output_sequence_length=int(percentile_95_length), pad_to_max_tokens=True)\n",
    "text_vectorizer.adapt(train_df['Text'].values)\n",
    "\n",
    "embedding = tf.keras.layers.Embedding(input_dim=len(text_vectorizer.get_vocabulary()), output_dim=128, input_length=int(percentile_95_length))"
   ]
  },
  {
   "cell_type": "code",
   "execution_count": 49,
   "metadata": {},
   "outputs": [
    {
     "name": "stderr",
     "output_type": "stream",
     "text": [
      "WARNING:absl:At this time, the v2.11+ optimizer `tf.keras.optimizers.Adam` runs slowly on M1/M2 Macs, please use the legacy Keras optimizer instead, located at `tf.keras.optimizers.legacy.Adam`.\n"
     ]
    },
    {
     "name": "stdout",
     "output_type": "stream",
     "text": [
      "Epoch 1/50\n",
      "49/49 [==============================] - ETA: 0s - loss: 1.6005 - accuracy: 0.2458INFO:tensorflow:Assets written to: model_4_conv1d/assets\n"
     ]
    },
    {
     "name": "stderr",
     "output_type": "stream",
     "text": [
      "INFO:tensorflow:Assets written to: model_4_conv1d/assets\n"
     ]
    },
    {
     "name": "stdout",
     "output_type": "stream",
     "text": [
      "49/49 [==============================] - 8s 161ms/step - loss: 1.6005 - accuracy: 0.2458 - val_loss: 1.5658 - val_accuracy: 0.4371 - lr: 0.0010\n",
      "Epoch 2/50\n",
      "49/49 [==============================] - ETA: 0s - loss: 1.4880 - accuracy: 0.3935INFO:tensorflow:Assets written to: model_4_conv1d/assets\n"
     ]
    },
    {
     "name": "stderr",
     "output_type": "stream",
     "text": [
      "INFO:tensorflow:Assets written to: model_4_conv1d/assets\n"
     ]
    },
    {
     "name": "stdout",
     "output_type": "stream",
     "text": [
      "49/49 [==============================] - 7s 148ms/step - loss: 1.4880 - accuracy: 0.3935 - val_loss: 1.3382 - val_accuracy: 0.5988 - lr: 0.0010\n",
      "Epoch 3/50\n",
      "49/49 [==============================] - ETA: 0s - loss: 1.0873 - accuracy: 0.6284INFO:tensorflow:Assets written to: model_4_conv1d/assets\n"
     ]
    },
    {
     "name": "stderr",
     "output_type": "stream",
     "text": [
      "INFO:tensorflow:Assets written to: model_4_conv1d/assets\n"
     ]
    },
    {
     "name": "stdout",
     "output_type": "stream",
     "text": [
      "49/49 [==============================] - 7s 150ms/step - loss: 1.0873 - accuracy: 0.6284 - val_loss: 0.7577 - val_accuracy: 0.8503 - lr: 0.0010\n",
      "Epoch 4/50\n",
      "49/49 [==============================] - ETA: 0s - loss: 0.6333 - accuracy: 0.8017INFO:tensorflow:Assets written to: model_4_conv1d/assets\n"
     ]
    },
    {
     "name": "stderr",
     "output_type": "stream",
     "text": [
      "INFO:tensorflow:Assets written to: model_4_conv1d/assets\n"
     ]
    },
    {
     "name": "stdout",
     "output_type": "stream",
     "text": [
      "49/49 [==============================] - 7s 151ms/step - loss: 0.6333 - accuracy: 0.8017 - val_loss: 0.4278 - val_accuracy: 0.9012 - lr: 0.0010\n",
      "Epoch 5/50\n",
      "49/49 [==============================] - ETA: 0s - loss: 0.3360 - accuracy: 0.9114INFO:tensorflow:Assets written to: model_4_conv1d/assets\n"
     ]
    },
    {
     "name": "stderr",
     "output_type": "stream",
     "text": [
      "INFO:tensorflow:Assets written to: model_4_conv1d/assets\n"
     ]
    },
    {
     "name": "stdout",
     "output_type": "stream",
     "text": [
      "49/49 [==============================] - 7s 147ms/step - loss: 0.3360 - accuracy: 0.9114 - val_loss: 0.2910 - val_accuracy: 0.9311 - lr: 0.0010\n",
      "Epoch 6/50\n",
      "49/49 [==============================] - ETA: 0s - loss: 0.1867 - accuracy: 0.9596INFO:tensorflow:Assets written to: model_4_conv1d/assets\n"
     ]
    },
    {
     "name": "stderr",
     "output_type": "stream",
     "text": [
      "INFO:tensorflow:Assets written to: model_4_conv1d/assets\n"
     ]
    },
    {
     "name": "stdout",
     "output_type": "stream",
     "text": [
      "49/49 [==============================] - 7s 150ms/step - loss: 0.1867 - accuracy: 0.9596 - val_loss: 0.2453 - val_accuracy: 0.9401 - lr: 0.0010\n",
      "Epoch 7/50\n",
      "49/49 [==============================] - ETA: 0s - loss: 0.1401 - accuracy: 0.9596INFO:tensorflow:Assets written to: model_4_conv1d/assets\n"
     ]
    },
    {
     "name": "stderr",
     "output_type": "stream",
     "text": [
      "INFO:tensorflow:Assets written to: model_4_conv1d/assets\n"
     ]
    },
    {
     "name": "stdout",
     "output_type": "stream",
     "text": [
      "49/49 [==============================] - 7s 147ms/step - loss: 0.1401 - accuracy: 0.9596 - val_loss: 0.2300 - val_accuracy: 0.9401 - lr: 0.0010\n",
      "Epoch 8/50\n",
      "49/49 [==============================] - ETA: 0s - loss: 0.0840 - accuracy: 0.9775INFO:tensorflow:Assets written to: model_4_conv1d/assets\n"
     ]
    },
    {
     "name": "stderr",
     "output_type": "stream",
     "text": [
      "INFO:tensorflow:Assets written to: model_4_conv1d/assets\n"
     ]
    },
    {
     "name": "stdout",
     "output_type": "stream",
     "text": [
      "49/49 [==============================] - 7s 150ms/step - loss: 0.0840 - accuracy: 0.9775 - val_loss: 0.1993 - val_accuracy: 0.9401 - lr: 0.0010\n",
      "Epoch 9/50\n",
      "49/49 [==============================] - ETA: 0s - loss: 0.0588 - accuracy: 0.9872INFO:tensorflow:Assets written to: model_4_conv1d/assets\n"
     ]
    },
    {
     "name": "stderr",
     "output_type": "stream",
     "text": [
      "INFO:tensorflow:Assets written to: model_4_conv1d/assets\n"
     ]
    },
    {
     "name": "stdout",
     "output_type": "stream",
     "text": [
      "49/49 [==============================] - 8s 154ms/step - loss: 0.0588 - accuracy: 0.9872 - val_loss: 0.1948 - val_accuracy: 0.9521 - lr: 0.0010\n",
      "Epoch 10/50\n",
      "49/49 [==============================] - 6s 131ms/step - loss: 0.0559 - accuracy: 0.9891 - val_loss: 0.1952 - val_accuracy: 0.9491 - lr: 0.0010\n",
      "Epoch 11/50\n",
      "49/49 [==============================] - 7s 134ms/step - loss: 0.0418 - accuracy: 0.9910 - val_loss: 0.2119 - val_accuracy: 0.9521 - lr: 0.0010\n",
      "Epoch 12/50\n",
      "49/49 [==============================] - 6s 131ms/step - loss: 0.0372 - accuracy: 0.9923 - val_loss: 0.1950 - val_accuracy: 0.9491 - lr: 0.0010\n"
     ]
    }
   ],
   "source": [
    "inputs = tf.keras.layers.Input(shape=[], dtype=tf.string)\n",
    "x = text_vectorizer(inputs)\n",
    "x = embedding(x)\n",
    "x = tf.keras.layers.Conv1D(64, kernel_size=5, padding='same', activation='relu')(x)\n",
    "x = tf.keras.layers.GlobalMaxPool1D()(x)\n",
    "x = tf.keras.layers.Dropout(0.4)(x)\n",
    "x = tf.keras.layers.Dense(64, activation='relu')(x)\n",
    "x = tf.keras.layers.Dropout(0.4)(x)\n",
    "outputs = tf.keras.layers.Dense(5, activation='softmax')(x)\n",
    "\n",
    "model_4 = tf.keras.Model(inputs, outputs, name='model_4_conv1d')\n",
    "\n",
    "model_4.compile(loss=tf.keras.losses.SparseCategoricalCrossentropy(), optimizer=tf.keras.optimizers.Adam(), metrics=['accuracy'])\n",
    "model_4_history = model_4.fit(train_dataset, epochs=50, validation_data=val_dataset, callbacks=[\n",
    "        tf.keras.callbacks.EarlyStopping(monitor='val_loss', patience=3, restore_best_weights=True),\n",
    "        tf.keras.callbacks.ModelCheckpoint(model_4.name, save_best_only=True),\n",
    "        tf.keras.callbacks.ReduceLROnPlateau(monitor='val_loss', patience=5, verbose=1)\n",
    "    ]\n",
    ")"
   ]
  },
  {
   "cell_type": "code",
   "execution_count": 50,
   "metadata": {},
   "outputs": [
    {
     "name": "stdout",
     "output_type": "stream",
     "text": [
      "11/11 [==============================] - 0s 30ms/step - loss: 0.1213 - accuracy: 0.9640\n"
     ]
    },
    {
     "data": {
      "text/plain": [
       "[0.12133336812257767, 0.9639639854431152]"
      ]
     },
     "execution_count": 50,
     "metadata": {},
     "output_type": "execute_result"
    }
   ],
   "source": [
    "model_4.evaluate(test_dataset)"
   ]
  },
  {
   "cell_type": "markdown",
   "metadata": {},
   "source": [
    "## Model 5: use tensorflow_hub pretrained embedding"
   ]
  },
  {
   "cell_type": "code",
   "execution_count": 58,
   "metadata": {},
   "outputs": [],
   "source": [
    "embedding = hub.KerasLayer('https://tfhub.dev/google/universal-sentence-encoder/4', input_shape=[], dtype=tf.string, trainable=False)"
   ]
  },
  {
   "cell_type": "code",
   "execution_count": 61,
   "metadata": {},
   "outputs": [
    {
     "name": "stderr",
     "output_type": "stream",
     "text": [
      "WARNING:absl:At this time, the v2.11+ optimizer `tf.keras.optimizers.Adam` runs slowly on M1/M2 Macs, please use the legacy Keras optimizer instead, located at `tf.keras.optimizers.legacy.Adam`.\n"
     ]
    },
    {
     "name": "stdout",
     "output_type": "stream",
     "text": [
      "Epoch 1/50\n",
      "49/49 [==============================] - ETA: 0s - loss: 1.3256 - accuracy: 0.7349INFO:tensorflow:Assets written to: model_5_hub_sentence_encoder/assets\n"
     ]
    },
    {
     "name": "stderr",
     "output_type": "stream",
     "text": [
      "INFO:tensorflow:Assets written to: model_5_hub_sentence_encoder/assets\n"
     ]
    },
    {
     "name": "stdout",
     "output_type": "stream",
     "text": [
      "49/49 [==============================] - 10s 179ms/step - loss: 1.3256 - accuracy: 0.7349 - val_loss: 0.9560 - val_accuracy: 0.9162 - lr: 0.0010\n",
      "Epoch 2/50\n",
      "49/49 [==============================] - ETA: 0s - loss: 0.7007 - accuracy: 0.9249INFO:tensorflow:Assets written to: model_5_hub_sentence_encoder/assets\n"
     ]
    },
    {
     "name": "stderr",
     "output_type": "stream",
     "text": [
      "INFO:tensorflow:Assets written to: model_5_hub_sentence_encoder/assets\n"
     ]
    },
    {
     "name": "stdout",
     "output_type": "stream",
     "text": [
      "49/49 [==============================] - 7s 145ms/step - loss: 0.7007 - accuracy: 0.9249 - val_loss: 0.4659 - val_accuracy: 0.9521 - lr: 0.0010\n",
      "Epoch 3/50\n",
      "49/49 [==============================] - ETA: 0s - loss: 0.3784 - accuracy: 0.9454INFO:tensorflow:Assets written to: model_5_hub_sentence_encoder/assets\n"
     ]
    },
    {
     "name": "stderr",
     "output_type": "stream",
     "text": [
      "INFO:tensorflow:Assets written to: model_5_hub_sentence_encoder/assets\n"
     ]
    },
    {
     "name": "stdout",
     "output_type": "stream",
     "text": [
      "49/49 [==============================] - 7s 147ms/step - loss: 0.3784 - accuracy: 0.9454 - val_loss: 0.2741 - val_accuracy: 0.9611 - lr: 0.0010\n",
      "Epoch 4/50\n",
      "49/49 [==============================] - ETA: 0s - loss: 0.2475 - accuracy: 0.9570INFO:tensorflow:Assets written to: model_5_hub_sentence_encoder/assets\n"
     ]
    },
    {
     "name": "stderr",
     "output_type": "stream",
     "text": [
      "INFO:tensorflow:Assets written to: model_5_hub_sentence_encoder/assets\n"
     ]
    },
    {
     "name": "stdout",
     "output_type": "stream",
     "text": [
      "49/49 [==============================] - 7s 154ms/step - loss: 0.2475 - accuracy: 0.9570 - val_loss: 0.1952 - val_accuracy: 0.9731 - lr: 0.0010\n",
      "Epoch 5/50\n",
      "49/49 [==============================] - ETA: 0s - loss: 0.1843 - accuracy: 0.9673INFO:tensorflow:Assets written to: model_5_hub_sentence_encoder/assets\n"
     ]
    },
    {
     "name": "stderr",
     "output_type": "stream",
     "text": [
      "INFO:tensorflow:Assets written to: model_5_hub_sentence_encoder/assets\n"
     ]
    },
    {
     "name": "stdout",
     "output_type": "stream",
     "text": [
      "49/49 [==============================] - 7s 147ms/step - loss: 0.1843 - accuracy: 0.9673 - val_loss: 0.1542 - val_accuracy: 0.9760 - lr: 0.0010\n",
      "Epoch 6/50\n",
      "49/49 [==============================] - ETA: 0s - loss: 0.1587 - accuracy: 0.9679INFO:tensorflow:Assets written to: model_5_hub_sentence_encoder/assets\n"
     ]
    },
    {
     "name": "stderr",
     "output_type": "stream",
     "text": [
      "INFO:tensorflow:Assets written to: model_5_hub_sentence_encoder/assets\n"
     ]
    },
    {
     "name": "stdout",
     "output_type": "stream",
     "text": [
      "49/49 [==============================] - 7s 146ms/step - loss: 0.1587 - accuracy: 0.9679 - val_loss: 0.1322 - val_accuracy: 0.9731 - lr: 0.0010\n",
      "Epoch 7/50\n",
      "49/49 [==============================] - ETA: 0s - loss: 0.1302 - accuracy: 0.9692INFO:tensorflow:Assets written to: model_5_hub_sentence_encoder/assets\n"
     ]
    },
    {
     "name": "stderr",
     "output_type": "stream",
     "text": [
      "INFO:tensorflow:Assets written to: model_5_hub_sentence_encoder/assets\n"
     ]
    },
    {
     "name": "stdout",
     "output_type": "stream",
     "text": [
      "49/49 [==============================] - 8s 158ms/step - loss: 0.1302 - accuracy: 0.9692 - val_loss: 0.1167 - val_accuracy: 0.9731 - lr: 0.0010\n",
      "Epoch 8/50\n",
      "49/49 [==============================] - ETA: 0s - loss: 0.1136 - accuracy: 0.9711INFO:tensorflow:Assets written to: model_5_hub_sentence_encoder/assets\n"
     ]
    },
    {
     "name": "stderr",
     "output_type": "stream",
     "text": [
      "INFO:tensorflow:Assets written to: model_5_hub_sentence_encoder/assets\n"
     ]
    },
    {
     "name": "stdout",
     "output_type": "stream",
     "text": [
      "49/49 [==============================] - 7s 147ms/step - loss: 0.1136 - accuracy: 0.9711 - val_loss: 0.1065 - val_accuracy: 0.9760 - lr: 0.0010\n",
      "Epoch 9/50\n",
      "49/49 [==============================] - ETA: 0s - loss: 0.1000 - accuracy: 0.9756INFO:tensorflow:Assets written to: model_5_hub_sentence_encoder/assets\n"
     ]
    },
    {
     "name": "stderr",
     "output_type": "stream",
     "text": [
      "INFO:tensorflow:Assets written to: model_5_hub_sentence_encoder/assets\n"
     ]
    },
    {
     "name": "stdout",
     "output_type": "stream",
     "text": [
      "49/49 [==============================] - 7s 147ms/step - loss: 0.1000 - accuracy: 0.9756 - val_loss: 0.0987 - val_accuracy: 0.9790 - lr: 0.0010\n",
      "Epoch 10/50\n",
      "49/49 [==============================] - ETA: 0s - loss: 0.0978 - accuracy: 0.9705INFO:tensorflow:Assets written to: model_5_hub_sentence_encoder/assets\n"
     ]
    },
    {
     "name": "stderr",
     "output_type": "stream",
     "text": [
      "INFO:tensorflow:Assets written to: model_5_hub_sentence_encoder/assets\n"
     ]
    },
    {
     "name": "stdout",
     "output_type": "stream",
     "text": [
      "49/49 [==============================] - 7s 152ms/step - loss: 0.0978 - accuracy: 0.9705 - val_loss: 0.0922 - val_accuracy: 0.9790 - lr: 0.0010\n",
      "Epoch 11/50\n",
      "49/49 [==============================] - ETA: 0s - loss: 0.0925 - accuracy: 0.9782INFO:tensorflow:Assets written to: model_5_hub_sentence_encoder/assets\n"
     ]
    },
    {
     "name": "stderr",
     "output_type": "stream",
     "text": [
      "INFO:tensorflow:Assets written to: model_5_hub_sentence_encoder/assets\n"
     ]
    },
    {
     "name": "stdout",
     "output_type": "stream",
     "text": [
      "49/49 [==============================] - 7s 148ms/step - loss: 0.0925 - accuracy: 0.9782 - val_loss: 0.0878 - val_accuracy: 0.9790 - lr: 0.0010\n",
      "Epoch 12/50\n",
      "49/49 [==============================] - ETA: 0s - loss: 0.0864 - accuracy: 0.9743INFO:tensorflow:Assets written to: model_5_hub_sentence_encoder/assets\n"
     ]
    },
    {
     "name": "stderr",
     "output_type": "stream",
     "text": [
      "INFO:tensorflow:Assets written to: model_5_hub_sentence_encoder/assets\n"
     ]
    },
    {
     "name": "stdout",
     "output_type": "stream",
     "text": [
      "49/49 [==============================] - 7s 142ms/step - loss: 0.0864 - accuracy: 0.9743 - val_loss: 0.0877 - val_accuracy: 0.9760 - lr: 0.0010\n",
      "Epoch 13/50\n",
      "49/49 [==============================] - ETA: 0s - loss: 0.0778 - accuracy: 0.9750INFO:tensorflow:Assets written to: model_5_hub_sentence_encoder/assets\n"
     ]
    },
    {
     "name": "stderr",
     "output_type": "stream",
     "text": [
      "INFO:tensorflow:Assets written to: model_5_hub_sentence_encoder/assets\n"
     ]
    },
    {
     "name": "stdout",
     "output_type": "stream",
     "text": [
      "49/49 [==============================] - 7s 148ms/step - loss: 0.0778 - accuracy: 0.9750 - val_loss: 0.0843 - val_accuracy: 0.9760 - lr: 0.0010\n",
      "Epoch 14/50\n",
      "49/49 [==============================] - ETA: 0s - loss: 0.0686 - accuracy: 0.9833INFO:tensorflow:Assets written to: model_5_hub_sentence_encoder/assets\n"
     ]
    },
    {
     "name": "stderr",
     "output_type": "stream",
     "text": [
      "INFO:tensorflow:Assets written to: model_5_hub_sentence_encoder/assets\n"
     ]
    },
    {
     "name": "stdout",
     "output_type": "stream",
     "text": [
      "49/49 [==============================] - 7s 155ms/step - loss: 0.0686 - accuracy: 0.9833 - val_loss: 0.0827 - val_accuracy: 0.9790 - lr: 0.0010\n",
      "Epoch 15/50\n",
      "49/49 [==============================] - ETA: 0s - loss: 0.0708 - accuracy: 0.9827INFO:tensorflow:Assets written to: model_5_hub_sentence_encoder/assets\n"
     ]
    },
    {
     "name": "stderr",
     "output_type": "stream",
     "text": [
      "INFO:tensorflow:Assets written to: model_5_hub_sentence_encoder/assets\n"
     ]
    },
    {
     "name": "stdout",
     "output_type": "stream",
     "text": [
      "49/49 [==============================] - 7s 152ms/step - loss: 0.0708 - accuracy: 0.9827 - val_loss: 0.0799 - val_accuracy: 0.9760 - lr: 0.0010\n",
      "Epoch 16/50\n",
      "48/49 [============================>.] - ETA: 0s - loss: 0.0611 - accuracy: 0.9863INFO:tensorflow:Assets written to: model_5_hub_sentence_encoder/assets\n"
     ]
    },
    {
     "name": "stderr",
     "output_type": "stream",
     "text": [
      "INFO:tensorflow:Assets written to: model_5_hub_sentence_encoder/assets\n"
     ]
    },
    {
     "name": "stdout",
     "output_type": "stream",
     "text": [
      "49/49 [==============================] - 8s 161ms/step - loss: 0.0612 - accuracy: 0.9865 - val_loss: 0.0761 - val_accuracy: 0.9760 - lr: 0.0010\n",
      "Epoch 17/50\n",
      "49/49 [==============================] - 1s 30ms/step - loss: 0.0571 - accuracy: 0.9833 - val_loss: 0.0790 - val_accuracy: 0.9790 - lr: 0.0010\n",
      "Epoch 18/50\n",
      "49/49 [==============================] - ETA: 0s - loss: 0.0530 - accuracy: 0.9865INFO:tensorflow:Assets written to: model_5_hub_sentence_encoder/assets\n"
     ]
    },
    {
     "name": "stderr",
     "output_type": "stream",
     "text": [
      "INFO:tensorflow:Assets written to: model_5_hub_sentence_encoder/assets\n"
     ]
    },
    {
     "name": "stdout",
     "output_type": "stream",
     "text": [
      "49/49 [==============================] - 7s 149ms/step - loss: 0.0530 - accuracy: 0.9865 - val_loss: 0.0749 - val_accuracy: 0.9790 - lr: 0.0010\n",
      "Epoch 19/50\n",
      "49/49 [==============================] - ETA: 0s - loss: 0.0522 - accuracy: 0.9859INFO:tensorflow:Assets written to: model_5_hub_sentence_encoder/assets\n"
     ]
    },
    {
     "name": "stderr",
     "output_type": "stream",
     "text": [
      "INFO:tensorflow:Assets written to: model_5_hub_sentence_encoder/assets\n"
     ]
    },
    {
     "name": "stdout",
     "output_type": "stream",
     "text": [
      "49/49 [==============================] - 7s 146ms/step - loss: 0.0522 - accuracy: 0.9859 - val_loss: 0.0719 - val_accuracy: 0.9790 - lr: 0.0010\n",
      "Epoch 20/50\n",
      "49/49 [==============================] - ETA: 0s - loss: 0.0437 - accuracy: 0.9923INFO:tensorflow:Assets written to: model_5_hub_sentence_encoder/assets\n"
     ]
    },
    {
     "name": "stderr",
     "output_type": "stream",
     "text": [
      "INFO:tensorflow:Assets written to: model_5_hub_sentence_encoder/assets\n"
     ]
    },
    {
     "name": "stdout",
     "output_type": "stream",
     "text": [
      "49/49 [==============================] - 7s 149ms/step - loss: 0.0437 - accuracy: 0.9923 - val_loss: 0.0696 - val_accuracy: 0.9790 - lr: 0.0010\n",
      "Epoch 21/50\n",
      "49/49 [==============================] - 1s 29ms/step - loss: 0.0443 - accuracy: 0.9884 - val_loss: 0.0722 - val_accuracy: 0.9760 - lr: 0.0010\n",
      "Epoch 22/50\n",
      "49/49 [==============================] - 1s 29ms/step - loss: 0.0410 - accuracy: 0.9904 - val_loss: 0.0708 - val_accuracy: 0.9760 - lr: 0.0010\n",
      "Epoch 23/50\n",
      "49/49 [==============================] - 2s 36ms/step - loss: 0.0390 - accuracy: 0.9917 - val_loss: 0.0705 - val_accuracy: 0.9820 - lr: 0.0010\n"
     ]
    }
   ],
   "source": [
    "model_5 = tf.keras.Sequential([\n",
    "    embedding,\n",
    "    tf.keras.layers.Dropout(0.3),\n",
    "    tf.keras.layers.Dense(64, activation='relu'),\n",
    "    tf.keras.layers.Dropout(0.3),\n",
    "    tf.keras.layers.Dense(5, activation='softmax')\n",
    "], name='model_5_hub_sentence_encoder')\n",
    "\n",
    "model_5.compile(loss=tf.keras.losses.SparseCategoricalCrossentropy(), optimizer=tf.keras.optimizers.Adam(), metrics=['accuracy'])\n",
    "model_5_history = model_5.fit(train_dataset, epochs=50, validation_data=val_dataset, callbacks=[\n",
    "        tf.keras.callbacks.EarlyStopping(monitor='val_loss', patience=3, restore_best_weights=True),\n",
    "        tf.keras.callbacks.ModelCheckpoint(model_5.name, save_best_only=True),\n",
    "        tf.keras.callbacks.ReduceLROnPlateau(monitor='val_loss', patience=5, verbose=1)\n",
    "    ]\n",
    ")"
   ]
  },
  {
   "cell_type": "markdown",
   "metadata": {},
   "source": [
    "## Model 6: Ensemble model"
   ]
  },
  {
   "cell_type": "code",
   "execution_count": 40,
   "metadata": {},
   "outputs": [
    {
     "name": "stderr",
     "output_type": "stream",
     "text": [
      "WARNING:absl:At this time, the v2.11+ optimizer `tf.keras.optimizers.RestoredOptimizer` runs slowly on M1/M2 Macs, please use the legacy Keras optimizer instead, located at `tf.keras.optimizers.legacy.RestoredOptimizer`.\n",
      "WARNING:absl:At this time, the v2.11+ optimizer `tf.keras.optimizers.Adam` runs slowly on M1/M2 Macs, please use the legacy Keras optimizer instead, located at `tf.keras.optimizers.legacy.Adam`.\n",
      "WARNING:absl:At this time, the v2.11+ optimizer `tf.keras.optimizers.RestoredOptimizer` runs slowly on M1/M2 Macs, please use the legacy Keras optimizer instead, located at `tf.keras.optimizers.legacy.RestoredOptimizer`.\n",
      "WARNING:absl:At this time, the v2.11+ optimizer `tf.keras.optimizers.Adam` runs slowly on M1/M2 Macs, please use the legacy Keras optimizer instead, located at `tf.keras.optimizers.legacy.Adam`.\n",
      "WARNING:absl:At this time, the v2.11+ optimizer `tf.keras.optimizers.RestoredOptimizer` runs slowly on M1/M2 Macs, please use the legacy Keras optimizer instead, located at `tf.keras.optimizers.legacy.RestoredOptimizer`.\n",
      "WARNING:absl:At this time, the v2.11+ optimizer `tf.keras.optimizers.Adam` runs slowly on M1/M2 Macs, please use the legacy Keras optimizer instead, located at `tf.keras.optimizers.legacy.Adam`.\n"
     ]
    }
   ],
   "source": [
    "model_1 = tf.keras.models.load_model('model_1_dense_pooling')\n",
    "model_2 = tf.keras.models.load_model('model_2_lstm')\n",
    "model_4 = tf.keras.models.load_model('model_4_conv1d')\n",
    "model_5 = tf.keras.models.load_model('model_5_hub_sentence_encoder')"
   ]
  },
  {
   "cell_type": "code",
   "execution_count": 41,
   "metadata": {},
   "outputs": [
    {
     "name": "stderr",
     "output_type": "stream",
     "text": [
      "WARNING:absl:At this time, the v2.11+ optimizer `tf.keras.optimizers.Adam` runs slowly on M1/M2 Macs, please use the legacy Keras optimizer instead, located at `tf.keras.optimizers.legacy.Adam`.\n"
     ]
    }
   ],
   "source": [
    "ensemble_inputs = tf.keras.layers.Input(shape=[], dtype=tf.string)\n",
    "\n",
    "model_1_outputs = model_1(ensemble_inputs)\n",
    "model_2_outputs = model_2(ensemble_inputs)\n",
    "model_4_outputs = model_4(ensemble_inputs)\n",
    "model_5_outputs = model_5(ensemble_inputs)\n",
    "\n",
    "stacked_outputs = tf.stack([model_1_outputs, model_2_outputs, model_4_outputs, model_5_outputs], axis=0)\n",
    "average_output = tf.reduce_mean(stacked_outputs, axis=0)\n",
    "\n",
    "model_6 = tf.keras.Model(ensemble_inputs, average_output, name='model_6_ensemble')\n",
    "\n",
    "model_6.compile(loss=tf.keras.losses.SparseCategoricalCrossentropy(), optimizer=tf.keras.optimizers.Adam(), metrics=['accuracy'])\n"
   ]
  },
  {
   "cell_type": "code",
   "execution_count": 42,
   "metadata": {},
   "outputs": [
    {
     "data": {
      "image/png": "[encoded data removed]",
      "text/plain": [
       "<IPython.core.display.Image object>"
      ]
     },
     "execution_count": 42,
     "metadata": {},
     "output_type": "execute_result"
    }
   ],
   "source": [
    "tf.keras.utils.plot_model(model_6, show_shapes=True)"
   ]
  },
  {
   "cell_type": "code",
   "execution_count": 43,
   "metadata": {},
   "outputs": [
    {
     "name": "stdout",
     "output_type": "stream",
     "text": [
      "Epoch 1/50\n",
      "49/49 [==============================] - ETA: 0s - loss: 0.0226 - accuracy: 1.0000INFO:tensorflow:Assets written to: model_6_ensemble/assets\n"
     ]
    },
    {
     "name": "stderr",
     "output_type": "stream",
     "text": [
      "INFO:tensorflow:Assets written to: model_6_ensemble/assets\n"
     ]
    },
    {
     "name": "stdout",
     "output_type": "stream",
     "text": [
      "49/49 [==============================] - 23s 391ms/step - loss: 0.0226 - accuracy: 1.0000 - val_loss: 0.1041 - val_accuracy: 0.9790 - lr: 0.0010\n",
      "Epoch 2/50\n",
      "49/49 [==============================] - ETA: 0s - loss: 0.0152 - accuracy: 1.0000INFO:tensorflow:Assets written to: model_6_ensemble/assets\n"
     ]
    },
    {
     "name": "stderr",
     "output_type": "stream",
     "text": [
      "INFO:tensorflow:Assets written to: model_6_ensemble/assets\n"
     ]
    },
    {
     "name": "stdout",
     "output_type": "stream",
     "text": [
      "49/49 [==============================] - 18s 380ms/step - loss: 0.0152 - accuracy: 1.0000 - val_loss: 0.0956 - val_accuracy: 0.9731 - lr: 0.0010\n",
      "Epoch 3/50\n",
      "49/49 [==============================] - 8s 165ms/step - loss: 0.0131 - accuracy: 1.0000 - val_loss: 0.1004 - val_accuracy: 0.9701 - lr: 0.0010\n",
      "Epoch 4/50\n",
      "49/49 [==============================] - 8s 158ms/step - loss: 0.0113 - accuracy: 1.0000 - val_loss: 0.0975 - val_accuracy: 0.9731 - lr: 0.0010\n",
      "Epoch 5/50\n",
      "49/49 [==============================] - 8s 163ms/step - loss: 0.0088 - accuracy: 1.0000 - val_loss: 0.1000 - val_accuracy: 0.9731 - lr: 0.0010\n"
     ]
    }
   ],
   "source": [
    "model_6_history = model_6.fit(train_dataset, epochs=50, validation_data=val_dataset, callbacks=[\n",
    "        tf.keras.callbacks.EarlyStopping(monitor='val_loss', patience=3, restore_best_weights=True),\n",
    "        tf.keras.callbacks.ModelCheckpoint(model_6.name, save_best_only=True),\n",
    "        tf.keras.callbacks.ReduceLROnPlateau(monitor='val_loss', patience=5, verbose=1)\n",
    "    ]\n",
    ")"
   ]
  },
  {
   "cell_type": "code",
   "execution_count": 44,
   "metadata": {},
   "outputs": [
    {
     "name": "stdout",
     "output_type": "stream",
     "text": [
      "11/11 [==============================] - 0s 41ms/step - loss: 0.0885 - accuracy: 0.9850\n"
     ]
    },
    {
     "data": {
      "text/plain": [
       "[0.0885075181722641, 0.9849849939346313]"
      ]
     },
     "execution_count": 44,
     "metadata": {},
     "output_type": "execute_result"
    }
   ],
   "source": [
    "model_6.evaluate(test_dataset)"
   ]
  },
  {
   "cell_type": "markdown",
   "metadata": {},
   "source": [
    "## Compare model performance"
   ]
  },
  {
   "cell_type": "code",
   "execution_count": 9,
   "metadata": {},
   "outputs": [
    {
     "name": "stderr",
     "output_type": "stream",
     "text": [
      "WARNING:absl:At this time, the v2.11+ optimizer `tf.keras.optimizers.RestoredOptimizer` runs slowly on M1/M2 Macs, please use the legacy Keras optimizer instead, located at `tf.keras.optimizers.legacy.RestoredOptimizer`.\n",
      "WARNING:absl:At this time, the v2.11+ optimizer `tf.keras.optimizers.Adam` runs slowly on M1/M2 Macs, please use the legacy Keras optimizer instead, located at `tf.keras.optimizers.legacy.Adam`.\n",
      "WARNING:absl:At this time, the v2.11+ optimizer `tf.keras.optimizers.RestoredOptimizer` runs slowly on M1/M2 Macs, please use the legacy Keras optimizer instead, located at `tf.keras.optimizers.legacy.RestoredOptimizer`.\n",
      "WARNING:absl:At this time, the v2.11+ optimizer `tf.keras.optimizers.Adam` runs slowly on M1/M2 Macs, please use the legacy Keras optimizer instead, located at `tf.keras.optimizers.legacy.Adam`.\n",
      "WARNING:absl:At this time, the v2.11+ optimizer `tf.keras.optimizers.RestoredOptimizer` runs slowly on M1/M2 Macs, please use the legacy Keras optimizer instead, located at `tf.keras.optimizers.legacy.RestoredOptimizer`.\n",
      "WARNING:absl:At this time, the v2.11+ optimizer `tf.keras.optimizers.Adam` runs slowly on M1/M2 Macs, please use the legacy Keras optimizer instead, located at `tf.keras.optimizers.legacy.Adam`.\n",
      "WARNING:absl:At this time, the v2.11+ optimizer `tf.keras.optimizers.RestoredOptimizer` runs slowly on M1/M2 Macs, please use the legacy Keras optimizer instead, located at `tf.keras.optimizers.legacy.RestoredOptimizer`.\n",
      "WARNING:absl:At this time, the v2.11+ optimizer `tf.keras.optimizers.RestoredOptimizer` runs slowly on M1/M2 Macs, please use the legacy Keras optimizer instead, located at `tf.keras.optimizers.legacy.RestoredOptimizer`.\n",
      "WARNING:absl:At this time, the v2.11+ optimizer `tf.keras.optimizers.RestoredOptimizer` runs slowly on M1/M2 Macs, please use the legacy Keras optimizer instead, located at `tf.keras.optimizers.legacy.RestoredOptimizer`.\n",
      "WARNING:absl:At this time, the v2.11+ optimizer `tf.keras.optimizers.RestoredOptimizer` runs slowly on M1/M2 Macs, please use the legacy Keras optimizer instead, located at `tf.keras.optimizers.legacy.RestoredOptimizer`.\n",
      "WARNING:absl:At this time, the v2.11+ optimizer `tf.keras.optimizers.Adam` runs slowly on M1/M2 Macs, please use the legacy Keras optimizer instead, located at `tf.keras.optimizers.legacy.Adam`.\n"
     ]
    },
    {
     "name": "stdout",
     "output_type": "stream",
     "text": [
      "11/11 [==============================] - 0s 7ms/step\n",
      "11/11 [==============================] - 0s 6ms/step\n",
      "11/11 [==============================] - 0s 28ms/step\n",
      "11/11 [==============================] - 1s 26ms/step\n",
      "11/11 [==============================] - 1s 46ms/step\n"
     ]
    }
   ],
   "source": [
    "model_1 = tf.keras.models.load_model('model_1_dense_pooling')\n",
    "model_2 = tf.keras.models.load_model('model_2_lstm')\n",
    "model_4 = tf.keras.models.load_model('model_4_conv1d')\n",
    "model_5 = tf.keras.models.load_model('model_5_hub_sentence_encoder')\n",
    "model_6 = tf.keras.models.load_model('model_6_ensemble')\n",
    "\n",
    "model_1_preds = model_1.predict(test_dataset)\n",
    "model_2_preds = model_2.predict(test_dataset)\n",
    "model_4_preds = model_4.predict(test_dataset)\n",
    "model_5_preds = model_5.predict(test_dataset)\n",
    "model_6_preds = model_6.predict(test_dataset)"
   ]
  },
  {
   "cell_type": "code",
   "execution_count": 11,
   "metadata": {},
   "outputs": [],
   "source": [
    "model_1_predictions = tf.squeeze(tf.argmax(model_1_preds, axis=1))\n",
    "model_2_predictions = tf.squeeze(tf.argmax(model_2_preds, axis=1))\n",
    "model_4_predictions = tf.squeeze(tf.argmax(model_4_preds, axis=1))\n",
    "model_5_predictions = tf.squeeze(tf.argmax(model_5_preds, axis=1))\n",
    "model_6_predictions = tf.squeeze(tf.argmax(model_6_preds, axis=1))"
   ]
  },
  {
   "cell_type": "code",
   "execution_count": 18,
   "metadata": {},
   "outputs": [
    {
     "name": "stdout",
     "output_type": "stream",
     "text": [
      "11/11 [==============================] - 0s 6ms/step - loss: 0.0868 - accuracy: 0.9790\n",
      "11/11 [==============================] - 0s 7ms/step\n",
      "11/11 [==============================] - 0s 5ms/step - loss: 0.4213 - accuracy: 0.8889\n",
      "11/11 [==============================] - 0s 5ms/step\n",
      "11/11 [==============================] - 0s 28ms/step - loss: 0.1213 - accuracy: 0.9640\n",
      "11/11 [==============================] - 0s 28ms/step\n",
      "11/11 [==============================] - 0s 21ms/step - loss: 0.0620 - accuracy: 0.9730\n",
      "11/11 [==============================] - 0s 21ms/step\n",
      "11/11 [==============================] - 1s 39ms/step - loss: 0.0885 - accuracy: 0.9850\n",
      "11/11 [==============================] - 0s 40ms/step\n"
     ]
    }
   ],
   "source": [
    "models = [model_1, model_2, model_4, model_5, model_6]\n",
    "accuracies = []\n",
    "precisions = []\n",
    "recalls = []\n",
    "f1_scores = []\n",
    "for model in models:\n",
    "    accuracies.append(model.evaluate(test_dataset)[1])\n",
    "    precision_recall_f1_score_ = precision_recall_fscore_support(test_df['Label'], tf.squeeze(tf.argmax(model.predict(test_dataset), axis=1)), average='weighted')\n",
    "    precisions.append(precision_recall_f1_score_[0])\n",
    "    recalls.append(precision_recall_f1_score_[1])\n",
    "    f1_scores.append(precision_recall_f1_score_[2])"
   ]
  },
  {
   "cell_type": "code",
   "execution_count": 29,
   "metadata": {},
   "outputs": [
    {
     "data": {
      "text/html": [
       "<div>\n",
       "<style scoped>\n",
       "    .dataframe tbody tr th:only-of-type {\n",
       "        vertical-align: middle;\n",
       "    }\n",
       "\n",
       "    .dataframe tbody tr th {\n",
       "        vertical-align: top;\n",
       "    }\n",
       "\n",
       "    .dataframe thead th {\n",
       "        text-align: right;\n",
       "    }\n",
       "</style>\n",
       "<table border=\"1\" class=\"dataframe\">\n",
       "  <thead>\n",
       "    <tr style=\"text-align: right;\">\n",
       "      <th></th>\n",
       "      <th>Accuracy</th>\n",
       "      <th>Precision</th>\n",
       "      <th>Recall</th>\n",
       "      <th>F1 Score</th>\n",
       "    </tr>\n",
       "    <tr>\n",
       "      <th>Model</th>\n",
       "      <th></th>\n",
       "      <th></th>\n",
       "      <th></th>\n",
       "      <th></th>\n",
       "    </tr>\n",
       "  </thead>\n",
       "  <tbody>\n",
       "    <tr>\n",
       "      <th>model_1_dense_pooling</th>\n",
       "      <td>0.978979</td>\n",
       "      <td>0.979967</td>\n",
       "      <td>0.978979</td>\n",
       "      <td>0.979011</td>\n",
       "    </tr>\n",
       "    <tr>\n",
       "      <th>model_2_lstm</th>\n",
       "      <td>0.888889</td>\n",
       "      <td>0.889226</td>\n",
       "      <td>0.888889</td>\n",
       "      <td>0.888590</td>\n",
       "    </tr>\n",
       "    <tr>\n",
       "      <th>model_4_conv1d</th>\n",
       "      <td>0.963964</td>\n",
       "      <td>0.964507</td>\n",
       "      <td>0.963964</td>\n",
       "      <td>0.963866</td>\n",
       "    </tr>\n",
       "    <tr>\n",
       "      <th>model_5_hub_sentence_encoder</th>\n",
       "      <td>0.972973</td>\n",
       "      <td>0.973740</td>\n",
       "      <td>0.972973</td>\n",
       "      <td>0.972916</td>\n",
       "    </tr>\n",
       "    <tr>\n",
       "      <th>model_6_ensemble</th>\n",
       "      <td>0.984985</td>\n",
       "      <td>0.985442</td>\n",
       "      <td>0.984985</td>\n",
       "      <td>0.984946</td>\n",
       "    </tr>\n",
       "  </tbody>\n",
       "</table>\n",
       "</div>"
      ],
      "text/plain": [
       "                              Accuracy  Precision    Recall  F1 Score\n",
       "Model                                                                \n",
       "model_1_dense_pooling         0.978979   0.979967  0.978979  0.979011\n",
       "model_2_lstm                  0.888889   0.889226  0.888889  0.888590\n",
       "model_4_conv1d                0.963964   0.964507  0.963964  0.963866\n",
       "model_5_hub_sentence_encoder  0.972973   0.973740  0.972973  0.972916\n",
       "model_6_ensemble              0.984985   0.985442  0.984985  0.984946"
      ]
     },
     "execution_count": 29,
     "metadata": {},
     "output_type": "execute_result"
    }
   ],
   "source": [
    "model_results_df = pd.DataFrame(data={\n",
    "    'Model': [model.name for model in models],\n",
    "    'Accuracy': accuracies,\n",
    "    'Precision': precisions,\n",
    "    'Recall': recalls,\n",
    "    'F1 Score': f1_scores\n",
    "}).set_index('Model')\n",
    "\n",
    "model_results_df"
   ]
  },
  {
   "cell_type": "code",
   "execution_count": 48,
   "metadata": {},
   "outputs": [
    {
     "data": {
      "image/png": "[encoded data removed]",
      "text/plain": [
       "<Figure size 1000x700 with 1 Axes>"
      ]
     },
     "metadata": {},
     "output_type": "display_data"
    }
   ],
   "source": [
    "model_results_df.plot(kind='bar', figsize=(10, 7)).legend(bbox_to_anchor=(1.0, 1.0))\n",
    "plt.xticks(rotation=30)\n",
    "plt.show()"
   ]
  },
  {
   "cell_type": "code",
   "execution_count": null,
   "metadata": {},
   "outputs": [],
   "source": []
  }
 ],
 "metadata": {
  "kernelspec": {
   "display_name": "tensorflow3",
   "language": "python",
   "name": "python3"
  },
  "language_info": {
   "codemirror_mode": {
    "name": "ipython",
    "version": 3
   },
   "file_extension": ".py",
   "mimetype": "text/x-python",
   "name": "python",
   "nbconvert_exporter": "python",
   "pygments_lexer": "ipython3",
   "version": "3.11.6"
  }
 },
 "nbformat": 4,
 "nbformat_minor": 2
}
